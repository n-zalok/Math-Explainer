{
 "cells": [
  {
   "cell_type": "code",
   "execution_count": 1,
   "id": "3a577bd7",
   "metadata": {},
   "outputs": [],
   "source": [
    "import json\n",
    "import os\n",
    "\n",
    "depth = 3\n",
    "directory_path = f'./airflow/cleaned_data_{depth}'\n",
    "data = []\n",
    "\n",
    "for file in os.scandir(directory_path):\n",
    "    try:\n",
    "        with open(file.path, 'r') as f: \n",
    "            data.extend(json.load(f))\n",
    "\n",
    "    except Exception as e:\n",
    "        print(f\"Error reading {file.name}: {e}\")"
   ]
  },
  {
   "cell_type": "code",
   "execution_count": 2,
   "id": "3e3178ed",
   "metadata": {},
   "outputs": [
    {
     "data": {
      "text/plain": [
       "387528"
      ]
     },
     "execution_count": 2,
     "metadata": {},
     "output_type": "execute_result"
    }
   ],
   "source": [
    "og_len = len(data)\n",
    "og_len"
   ]
  },
  {
   "cell_type": "code",
   "execution_count": 3,
   "id": "ff8b94e8",
   "metadata": {},
   "outputs": [
    {
     "data": {
      "text/html": [
       "<div>\n",
       "<style scoped>\n",
       "    .dataframe tbody tr th:only-of-type {\n",
       "        vertical-align: middle;\n",
       "    }\n",
       "\n",
       "    .dataframe tbody tr th {\n",
       "        vertical-align: top;\n",
       "    }\n",
       "\n",
       "    .dataframe thead th {\n",
       "        text-align: right;\n",
       "    }\n",
       "</style>\n",
       "<table border=\"1\" class=\"dataframe\">\n",
       "  <thead>\n",
       "    <tr style=\"text-align: right;\">\n",
       "      <th></th>\n",
       "      <th>title</th>\n",
       "      <th>sub_title</th>\n",
       "      <th>text</th>\n",
       "      <th>category</th>\n",
       "      <th>layer</th>\n",
       "    </tr>\n",
       "  </thead>\n",
       "  <tbody>\n",
       "    <tr>\n",
       "      <th>387527</th>\n",
       "      <td>Young subgroup</td>\n",
       "      <td>None</td>\n",
       "      <td>Inmathematics, theYoung subgroupsof thesymmetr...</td>\n",
       "      <td>Combinatorics</td>\n",
       "      <td>1</td>\n",
       "    </tr>\n",
       "    <tr>\n",
       "      <th>154432</th>\n",
       "      <td>Projective plane</td>\n",
       "      <td>Finite projective planes</td>\n",
       "      <td>It can be shown that a projective plane has th...</td>\n",
       "      <td>Algebraic geometry</td>\n",
       "      <td>1</td>\n",
       "    </tr>\n",
       "    <tr>\n",
       "      <th>154431</th>\n",
       "      <td>Projective plane</td>\n",
       "      <td>Correlations</td>\n",
       "      <td>Adualityis a map from a projective planeto its...</td>\n",
       "      <td>Algebraic geometry</td>\n",
       "      <td>1</td>\n",
       "    </tr>\n",
       "    <tr>\n",
       "      <th>154430</th>\n",
       "      <td>Projective plane</td>\n",
       "      <td>Plane duality</td>\n",
       "      <td>A projective plane is defined axiomatically as...</td>\n",
       "      <td>Algebraic geometry</td>\n",
       "      <td>1</td>\n",
       "    </tr>\n",
       "    <tr>\n",
       "      <th>154429</th>\n",
       "      <td>Projective plane</td>\n",
       "      <td>Homography</td>\n",
       "      <td>Ahomography(orprojective transformation) of PG...</td>\n",
       "      <td>Algebraic geometry</td>\n",
       "      <td>1</td>\n",
       "    </tr>\n",
       "    <tr>\n",
       "      <th>...</th>\n",
       "      <td>...</td>\n",
       "      <td>...</td>\n",
       "      <td>...</td>\n",
       "      <td>...</td>\n",
       "      <td>...</td>\n",
       "    </tr>\n",
       "    <tr>\n",
       "      <th>197179</th>\n",
       "      <td>Futures techniques</td>\n",
       "      <td>Introduction</td>\n",
       "      <td>Futures techniquesused in the multi-disciplina...</td>\n",
       "      <td>Analysis</td>\n",
       "      <td>3</td>\n",
       "    </tr>\n",
       "    <tr>\n",
       "      <th>197180</th>\n",
       "      <td>Futures techniques</td>\n",
       "      <td>Delphi method</td>\n",
       "      <td>The Delphi method is a popular technique used ...</td>\n",
       "      <td>Analysis</td>\n",
       "      <td>3</td>\n",
       "    </tr>\n",
       "    <tr>\n",
       "      <th>197181</th>\n",
       "      <td>Futures techniques</td>\n",
       "      <td>Causal layered analysis (CLA)</td>\n",
       "      <td>This method, developed bySohail Inayatullah, i...</td>\n",
       "      <td>Analysis</td>\n",
       "      <td>3</td>\n",
       "    </tr>\n",
       "    <tr>\n",
       "      <th>197151</th>\n",
       "      <td>Futures studies</td>\n",
       "      <td>Branching trends</td>\n",
       "      <td>Very often, trends relate to one another the s...</td>\n",
       "      <td>Analysis</td>\n",
       "      <td>3</td>\n",
       "    </tr>\n",
       "    <tr>\n",
       "      <th>193763</th>\n",
       "      <td>International Classification of Diseases</td>\n",
       "      <td>ICDA-8 (United States)</td>\n",
       "      <td>In the US, a group of consultants was asked to...</td>\n",
       "      <td>Analysis</td>\n",
       "      <td>3</td>\n",
       "    </tr>\n",
       "  </tbody>\n",
       "</table>\n",
       "<p>387528 rows × 5 columns</p>\n",
       "</div>"
      ],
      "text/plain": [
       "                                           title  \\\n",
       "387527                            Young subgroup   \n",
       "154432                          Projective plane   \n",
       "154431                          Projective plane   \n",
       "154430                          Projective plane   \n",
       "154429                          Projective plane   \n",
       "...                                          ...   \n",
       "197179                        Futures techniques   \n",
       "197180                        Futures techniques   \n",
       "197181                        Futures techniques   \n",
       "197151                           Futures studies   \n",
       "193763  International Classification of Diseases   \n",
       "\n",
       "                            sub_title  \\\n",
       "387527                           None   \n",
       "154432       Finite projective planes   \n",
       "154431                   Correlations   \n",
       "154430                  Plane duality   \n",
       "154429                     Homography   \n",
       "...                               ...   \n",
       "197179                   Introduction   \n",
       "197180                  Delphi method   \n",
       "197181  Causal layered analysis (CLA)   \n",
       "197151               Branching trends   \n",
       "193763         ICDA-8 (United States)   \n",
       "\n",
       "                                                     text            category  \\\n",
       "387527  Inmathematics, theYoung subgroupsof thesymmetr...       Combinatorics   \n",
       "154432  It can be shown that a projective plane has th...  Algebraic geometry   \n",
       "154431  Adualityis a map from a projective planeto its...  Algebraic geometry   \n",
       "154430  A projective plane is defined axiomatically as...  Algebraic geometry   \n",
       "154429  Ahomography(orprojective transformation) of PG...  Algebraic geometry   \n",
       "...                                                   ...                 ...   \n",
       "197179  Futures techniquesused in the multi-disciplina...            Analysis   \n",
       "197180  The Delphi method is a popular technique used ...            Analysis   \n",
       "197181  This method, developed bySohail Inayatullah, i...            Analysis   \n",
       "197151  Very often, trends relate to one another the s...            Analysis   \n",
       "193763  In the US, a group of consultants was asked to...            Analysis   \n",
       "\n",
       "       layer  \n",
       "387527     1  \n",
       "154432     1  \n",
       "154431     1  \n",
       "154430     1  \n",
       "154429     1  \n",
       "...      ...  \n",
       "197179     3  \n",
       "197180     3  \n",
       "197181     3  \n",
       "197151     3  \n",
       "193763     3  \n",
       "\n",
       "[387528 rows x 5 columns]"
      ]
     },
     "execution_count": 3,
     "metadata": {},
     "output_type": "execute_result"
    }
   ],
   "source": [
    "import pandas as pd\n",
    "\n",
    "data = pd.DataFrame(data)\n",
    "data = data.sort_values(by='layer', ascending=True)\n",
    "data\n"
   ]
  },
  {
   "cell_type": "code",
   "execution_count": 4,
   "id": "abfe43a1",
   "metadata": {},
   "outputs": [
    {
     "name": "stdout",
     "output_type": "stream",
     "text": [
      "64.14% of df remained\n"
     ]
    }
   ],
   "source": [
    "data = data.drop_duplicates(subset=['text', 'sub_title'])\n",
    "print(f'{len(data)/og_len:.2%} of df remained')"
   ]
  },
  {
   "cell_type": "code",
   "execution_count": 5,
   "id": "19cb19cf",
   "metadata": {},
   "outputs": [
    {
     "name": "stderr",
     "output_type": "stream",
     "text": [
      "/tmp/ipykernel_5303/1579233866.py:1: SettingWithCopyWarning: \n",
      "A value is trying to be set on a copy of a slice from a DataFrame.\n",
      "Try using .loc[row_indexer,col_indexer] = value instead\n",
      "\n",
      "See the caveats in the documentation: https://pandas.pydata.org/pandas-docs/stable/user_guide/indexing.html#returning-a-view-versus-a-copy\n",
      "  data['length'] = data['text'].apply(lambda x: len(x.split()))\n"
     ]
    },
    {
     "data": {
      "text/html": [
       "<div>\n",
       "<style scoped>\n",
       "    .dataframe tbody tr th:only-of-type {\n",
       "        vertical-align: middle;\n",
       "    }\n",
       "\n",
       "    .dataframe tbody tr th {\n",
       "        vertical-align: top;\n",
       "    }\n",
       "\n",
       "    .dataframe thead th {\n",
       "        text-align: right;\n",
       "    }\n",
       "</style>\n",
       "<table border=\"1\" class=\"dataframe\">\n",
       "  <thead>\n",
       "    <tr style=\"text-align: right;\">\n",
       "      <th></th>\n",
       "      <th>title</th>\n",
       "      <th>sub_title</th>\n",
       "      <th>text</th>\n",
       "      <th>category</th>\n",
       "      <th>layer</th>\n",
       "      <th>length</th>\n",
       "    </tr>\n",
       "  </thead>\n",
       "  <tbody>\n",
       "    <tr>\n",
       "      <th>count</th>\n",
       "      <td>248560</td>\n",
       "      <td>236222</td>\n",
       "      <td>248560</td>\n",
       "      <td>248560</td>\n",
       "      <td>248560</td>\n",
       "      <td>248560.000000</td>\n",
       "    </tr>\n",
       "    <tr>\n",
       "      <th>unique</th>\n",
       "      <td>45624</td>\n",
       "      <td>122944</td>\n",
       "      <td>247970</td>\n",
       "      <td>30</td>\n",
       "      <td>3</td>\n",
       "      <td>NaN</td>\n",
       "    </tr>\n",
       "    <tr>\n",
       "      <th>top</th>\n",
       "      <td>List of fellows of the American Statistical As...</td>\n",
       "      <td>Introduction</td>\n",
       "      <td>*</td>\n",
       "      <td>Applied mathematics</td>\n",
       "      <td>3</td>\n",
       "      <td>NaN</td>\n",
       "    </tr>\n",
       "    <tr>\n",
       "      <th>freq</th>\n",
       "      <td>108</td>\n",
       "      <td>33243</td>\n",
       "      <td>87</td>\n",
       "      <td>64166</td>\n",
       "      <td>134604</td>\n",
       "      <td>NaN</td>\n",
       "    </tr>\n",
       "    <tr>\n",
       "      <th>mean</th>\n",
       "      <td>NaN</td>\n",
       "      <td>NaN</td>\n",
       "      <td>NaN</td>\n",
       "      <td>NaN</td>\n",
       "      <td>NaN</td>\n",
       "      <td>162.247083</td>\n",
       "    </tr>\n",
       "    <tr>\n",
       "      <th>std</th>\n",
       "      <td>NaN</td>\n",
       "      <td>NaN</td>\n",
       "      <td>NaN</td>\n",
       "      <td>NaN</td>\n",
       "      <td>NaN</td>\n",
       "      <td>215.977352</td>\n",
       "    </tr>\n",
       "    <tr>\n",
       "      <th>min</th>\n",
       "      <td>NaN</td>\n",
       "      <td>NaN</td>\n",
       "      <td>NaN</td>\n",
       "      <td>NaN</td>\n",
       "      <td>NaN</td>\n",
       "      <td>0.000000</td>\n",
       "    </tr>\n",
       "    <tr>\n",
       "      <th>25%</th>\n",
       "      <td>NaN</td>\n",
       "      <td>NaN</td>\n",
       "      <td>NaN</td>\n",
       "      <td>NaN</td>\n",
       "      <td>NaN</td>\n",
       "      <td>59.000000</td>\n",
       "    </tr>\n",
       "    <tr>\n",
       "      <th>50%</th>\n",
       "      <td>NaN</td>\n",
       "      <td>NaN</td>\n",
       "      <td>NaN</td>\n",
       "      <td>NaN</td>\n",
       "      <td>NaN</td>\n",
       "      <td>115.000000</td>\n",
       "    </tr>\n",
       "    <tr>\n",
       "      <th>75%</th>\n",
       "      <td>NaN</td>\n",
       "      <td>NaN</td>\n",
       "      <td>NaN</td>\n",
       "      <td>NaN</td>\n",
       "      <td>NaN</td>\n",
       "      <td>204.000000</td>\n",
       "    </tr>\n",
       "    <tr>\n",
       "      <th>max</th>\n",
       "      <td>NaN</td>\n",
       "      <td>NaN</td>\n",
       "      <td>NaN</td>\n",
       "      <td>NaN</td>\n",
       "      <td>NaN</td>\n",
       "      <td>33122.000000</td>\n",
       "    </tr>\n",
       "  </tbody>\n",
       "</table>\n",
       "</div>"
      ],
      "text/plain": [
       "                                                    title     sub_title  \\\n",
       "count                                              248560        236222   \n",
       "unique                                              45624        122944   \n",
       "top     List of fellows of the American Statistical As...  Introduction   \n",
       "freq                                                  108         33243   \n",
       "mean                                                  NaN           NaN   \n",
       "std                                                   NaN           NaN   \n",
       "min                                                   NaN           NaN   \n",
       "25%                                                   NaN           NaN   \n",
       "50%                                                   NaN           NaN   \n",
       "75%                                                   NaN           NaN   \n",
       "max                                                   NaN           NaN   \n",
       "\n",
       "          text             category   layer         length  \n",
       "count   248560               248560  248560  248560.000000  \n",
       "unique  247970                   30       3            NaN  \n",
       "top          *  Applied mathematics       3            NaN  \n",
       "freq        87                64166  134604            NaN  \n",
       "mean       NaN                  NaN     NaN     162.247083  \n",
       "std        NaN                  NaN     NaN     215.977352  \n",
       "min        NaN                  NaN     NaN       0.000000  \n",
       "25%        NaN                  NaN     NaN      59.000000  \n",
       "50%        NaN                  NaN     NaN     115.000000  \n",
       "75%        NaN                  NaN     NaN     204.000000  \n",
       "max        NaN                  NaN     NaN   33122.000000  "
      ]
     },
     "execution_count": 5,
     "metadata": {},
     "output_type": "execute_result"
    }
   ],
   "source": [
    "data['length'] = data['text'].apply(lambda x: len(x.split()))\n",
    "data.describe(include='all')"
   ]
  },
  {
   "cell_type": "code",
   "execution_count": 8,
   "id": "3ddc0150",
   "metadata": {},
   "outputs": [
    {
     "name": "stdout",
     "output_type": "stream",
     "text": [
      "54.74% of df remained\n"
     ]
    },
    {
     "data": {
      "text/html": [
       "<div>\n",
       "<style scoped>\n",
       "    .dataframe tbody tr th:only-of-type {\n",
       "        vertical-align: middle;\n",
       "    }\n",
       "\n",
       "    .dataframe tbody tr th {\n",
       "        vertical-align: top;\n",
       "    }\n",
       "\n",
       "    .dataframe thead th {\n",
       "        text-align: right;\n",
       "    }\n",
       "</style>\n",
       "<table border=\"1\" class=\"dataframe\">\n",
       "  <thead>\n",
       "    <tr style=\"text-align: right;\">\n",
       "      <th></th>\n",
       "      <th>title</th>\n",
       "      <th>sub_title</th>\n",
       "      <th>text</th>\n",
       "      <th>category</th>\n",
       "      <th>layer</th>\n",
       "      <th>length</th>\n",
       "    </tr>\n",
       "  </thead>\n",
       "  <tbody>\n",
       "    <tr>\n",
       "      <th>count</th>\n",
       "      <td>212147</td>\n",
       "      <td>201051</td>\n",
       "      <td>212147</td>\n",
       "      <td>212147</td>\n",
       "      <td>212147</td>\n",
       "      <td>212147.000000</td>\n",
       "    </tr>\n",
       "    <tr>\n",
       "      <th>unique</th>\n",
       "      <td>43550</td>\n",
       "      <td>104767</td>\n",
       "      <td>212118</td>\n",
       "      <td>30</td>\n",
       "      <td>3</td>\n",
       "      <td>NaN</td>\n",
       "    </tr>\n",
       "    <tr>\n",
       "      <th>top</th>\n",
       "      <td>List of non-coherent units of measurement</td>\n",
       "      <td>Introduction</td>\n",
       "      <td>Image:Special fields: This type does not exist...</td>\n",
       "      <td>Applied mathematics</td>\n",
       "      <td>3</td>\n",
       "      <td>NaN</td>\n",
       "    </tr>\n",
       "    <tr>\n",
       "      <th>freq</th>\n",
       "      <td>95</td>\n",
       "      <td>30673</td>\n",
       "      <td>5</td>\n",
       "      <td>54456</td>\n",
       "      <td>114101</td>\n",
       "      <td>NaN</td>\n",
       "    </tr>\n",
       "    <tr>\n",
       "      <th>mean</th>\n",
       "      <td>NaN</td>\n",
       "      <td>NaN</td>\n",
       "      <td>NaN</td>\n",
       "      <td>NaN</td>\n",
       "      <td>NaN</td>\n",
       "      <td>116.103414</td>\n",
       "    </tr>\n",
       "    <tr>\n",
       "      <th>std</th>\n",
       "      <td>NaN</td>\n",
       "      <td>NaN</td>\n",
       "      <td>NaN</td>\n",
       "      <td>NaN</td>\n",
       "      <td>NaN</td>\n",
       "      <td>72.752545</td>\n",
       "    </tr>\n",
       "    <tr>\n",
       "      <th>min</th>\n",
       "      <td>NaN</td>\n",
       "      <td>NaN</td>\n",
       "      <td>NaN</td>\n",
       "      <td>NaN</td>\n",
       "      <td>NaN</td>\n",
       "      <td>10.000000</td>\n",
       "    </tr>\n",
       "    <tr>\n",
       "      <th>25%</th>\n",
       "      <td>NaN</td>\n",
       "      <td>NaN</td>\n",
       "      <td>NaN</td>\n",
       "      <td>NaN</td>\n",
       "      <td>NaN</td>\n",
       "      <td>56.000000</td>\n",
       "    </tr>\n",
       "    <tr>\n",
       "      <th>50%</th>\n",
       "      <td>NaN</td>\n",
       "      <td>NaN</td>\n",
       "      <td>NaN</td>\n",
       "      <td>NaN</td>\n",
       "      <td>NaN</td>\n",
       "      <td>102.000000</td>\n",
       "    </tr>\n",
       "    <tr>\n",
       "      <th>75%</th>\n",
       "      <td>NaN</td>\n",
       "      <td>NaN</td>\n",
       "      <td>NaN</td>\n",
       "      <td>NaN</td>\n",
       "      <td>NaN</td>\n",
       "      <td>166.000000</td>\n",
       "    </tr>\n",
       "    <tr>\n",
       "      <th>max</th>\n",
       "      <td>NaN</td>\n",
       "      <td>NaN</td>\n",
       "      <td>NaN</td>\n",
       "      <td>NaN</td>\n",
       "      <td>NaN</td>\n",
       "      <td>300.000000</td>\n",
       "    </tr>\n",
       "  </tbody>\n",
       "</table>\n",
       "</div>"
      ],
      "text/plain": [
       "                                            title     sub_title  \\\n",
       "count                                      212147        201051   \n",
       "unique                                      43550        104767   \n",
       "top     List of non-coherent units of measurement  Introduction   \n",
       "freq                                           95         30673   \n",
       "mean                                          NaN           NaN   \n",
       "std                                           NaN           NaN   \n",
       "min                                           NaN           NaN   \n",
       "25%                                           NaN           NaN   \n",
       "50%                                           NaN           NaN   \n",
       "75%                                           NaN           NaN   \n",
       "max                                           NaN           NaN   \n",
       "\n",
       "                                                     text  \\\n",
       "count                                              212147   \n",
       "unique                                             212118   \n",
       "top     Image:Special fields: This type does not exist...   \n",
       "freq                                                    5   \n",
       "mean                                                  NaN   \n",
       "std                                                   NaN   \n",
       "min                                                   NaN   \n",
       "25%                                                   NaN   \n",
       "50%                                                   NaN   \n",
       "75%                                                   NaN   \n",
       "max                                                   NaN   \n",
       "\n",
       "                   category   layer         length  \n",
       "count                212147  212147  212147.000000  \n",
       "unique                   30       3            NaN  \n",
       "top     Applied mathematics       3            NaN  \n",
       "freq                  54456  114101            NaN  \n",
       "mean                    NaN     NaN     116.103414  \n",
       "std                     NaN     NaN      72.752545  \n",
       "min                     NaN     NaN      10.000000  \n",
       "25%                     NaN     NaN      56.000000  \n",
       "50%                     NaN     NaN     102.000000  \n",
       "75%                     NaN     NaN     166.000000  \n",
       "max                     NaN     NaN     300.000000  "
      ]
     },
     "execution_count": 8,
     "metadata": {},
     "output_type": "execute_result"
    }
   ],
   "source": [
    "data = data[data['length'] <= 300]\n",
    "data = data[data['length'] >= 10]\n",
    "print(f'{len(data)/og_len:.2%} of df remained')\n",
    "data.describe(include='all')"
   ]
  },
  {
   "cell_type": "code",
   "execution_count": 9,
   "id": "eb4bd699",
   "metadata": {},
   "outputs": [
    {
     "data": {
      "image/png": "[encoded data removed]",
      "text/plain": [
       "<Figure size 1000x600 with 1 Axes>"
      ]
     },
     "metadata": {},
     "output_type": "display_data"
    }
   ],
   "source": [
    "import matplotlib.pyplot as plt\n",
    "\n",
    "plt.figure(figsize=(10, 6))\n",
    "plt.hist(data['length'], bins=100, color='blue', edgecolor='black')\n",
    "plt.title('Distribution of Text Lengths')\n",
    "plt.xlabel('Number of words')\n",
    "plt.ylabel('Frequency')\n",
    "plt.grid(axis='y')\n",
    "plt.show()"
   ]
  },
  {
   "cell_type": "code",
   "execution_count": 10,
   "id": "af51de17",
   "metadata": {},
   "outputs": [
    {
     "data": {
      "image/png": "[encoded data removed]",
      "text/plain": [
       "<Figure size 6000x3000 with 1 Axes>"
      ]
     },
     "metadata": {},
     "output_type": "display_data"
    }
   ],
   "source": [
    "plt.figure(figsize=(60,30))\n",
    "\n",
    "data.sort_values(by='category')['category'].hist(bins=len(data['category'].unique()), color='blue', edgecolor='black')\n",
    "plt.title('Histogram of category')\n",
    "plt.xlabel('Value')\n",
    "plt.ylabel('Frequency')\n",
    "plt.show()"
   ]
  },
  {
   "cell_type": "code",
   "execution_count": 11,
   "id": "28044eba",
   "metadata": {},
   "outputs": [
    {
     "data": {
      "image/png": "[encoded data removed]",
      "text/plain": [
       "<Figure size 640x480 with 1 Axes>"
      ]
     },
     "metadata": {},
     "output_type": "display_data"
    }
   ],
   "source": [
    "data.sort_values(by='layer')['layer'].hist(bins=len(data['layer'].unique()), color='blue', edgecolor='black')\n",
    "plt.title('Histogram of layer')\n",
    "plt.xlabel('Value')\n",
    "plt.ylabel('Frequency')\n",
    "plt.show()"
   ]
  },
  {
   "cell_type": "code",
   "execution_count": 18,
   "id": "a17c45e0",
   "metadata": {},
   "outputs": [],
   "source": [
    "rag_df = data[data['layer'] == f'{depth}'] \n",
    "fine_tune_df = data[data['layer'] != f'{depth}']\n",
    "\n",
    "rag_df = pd.concat([rag_df, fine_tune_df[fine_tune_df['length'] > 150]], axis=0)\n",
    "fine_tune_df = fine_tune_df[fine_tune_df['length'] <= 150]"
   ]
  },
  {
   "cell_type": "code",
   "execution_count": 19,
   "id": "0dd68ef2",
   "metadata": {},
   "outputs": [
    {
     "data": {
      "text/html": [
       "<div>\n",
       "<style scoped>\n",
       "    .dataframe tbody tr th:only-of-type {\n",
       "        vertical-align: middle;\n",
       "    }\n",
       "\n",
       "    .dataframe tbody tr th {\n",
       "        vertical-align: top;\n",
       "    }\n",
       "\n",
       "    .dataframe thead th {\n",
       "        text-align: right;\n",
       "    }\n",
       "</style>\n",
       "<table border=\"1\" class=\"dataframe\">\n",
       "  <thead>\n",
       "    <tr style=\"text-align: right;\">\n",
       "      <th></th>\n",
       "      <th>title</th>\n",
       "      <th>sub_title</th>\n",
       "      <th>text</th>\n",
       "      <th>category</th>\n",
       "      <th>layer</th>\n",
       "      <th>length</th>\n",
       "    </tr>\n",
       "  </thead>\n",
       "  <tbody>\n",
       "    <tr>\n",
       "      <th>count</th>\n",
       "      <td>68838</td>\n",
       "      <td>65076</td>\n",
       "      <td>68838</td>\n",
       "      <td>68838</td>\n",
       "      <td>68838</td>\n",
       "      <td>68838.000000</td>\n",
       "    </tr>\n",
       "    <tr>\n",
       "      <th>unique</th>\n",
       "      <td>17566</td>\n",
       "      <td>36273</td>\n",
       "      <td>68820</td>\n",
       "      <td>30</td>\n",
       "      <td>2</td>\n",
       "      <td>NaN</td>\n",
       "    </tr>\n",
       "    <tr>\n",
       "      <th>top</th>\n",
       "      <td>List of fellows of the American Statistical As...</td>\n",
       "      <td>Introduction</td>\n",
       "      <td>Proceedings - Proceedings of the International...</td>\n",
       "      <td>Applied mathematics</td>\n",
       "      <td>2</td>\n",
       "      <td>NaN</td>\n",
       "    </tr>\n",
       "    <tr>\n",
       "      <th>freq</th>\n",
       "      <td>93</td>\n",
       "      <td>10513</td>\n",
       "      <td>5</td>\n",
       "      <td>8698</td>\n",
       "      <td>53700</td>\n",
       "      <td>NaN</td>\n",
       "    </tr>\n",
       "    <tr>\n",
       "      <th>mean</th>\n",
       "      <td>NaN</td>\n",
       "      <td>NaN</td>\n",
       "      <td>NaN</td>\n",
       "      <td>NaN</td>\n",
       "      <td>NaN</td>\n",
       "      <td>76.445205</td>\n",
       "    </tr>\n",
       "    <tr>\n",
       "      <th>std</th>\n",
       "      <td>NaN</td>\n",
       "      <td>NaN</td>\n",
       "      <td>NaN</td>\n",
       "      <td>NaN</td>\n",
       "      <td>NaN</td>\n",
       "      <td>38.226195</td>\n",
       "    </tr>\n",
       "    <tr>\n",
       "      <th>min</th>\n",
       "      <td>NaN</td>\n",
       "      <td>NaN</td>\n",
       "      <td>NaN</td>\n",
       "      <td>NaN</td>\n",
       "      <td>NaN</td>\n",
       "      <td>10.000000</td>\n",
       "    </tr>\n",
       "    <tr>\n",
       "      <th>25%</th>\n",
       "      <td>NaN</td>\n",
       "      <td>NaN</td>\n",
       "      <td>NaN</td>\n",
       "      <td>NaN</td>\n",
       "      <td>NaN</td>\n",
       "      <td>44.000000</td>\n",
       "    </tr>\n",
       "    <tr>\n",
       "      <th>50%</th>\n",
       "      <td>NaN</td>\n",
       "      <td>NaN</td>\n",
       "      <td>NaN</td>\n",
       "      <td>NaN</td>\n",
       "      <td>NaN</td>\n",
       "      <td>74.000000</td>\n",
       "    </tr>\n",
       "    <tr>\n",
       "      <th>75%</th>\n",
       "      <td>NaN</td>\n",
       "      <td>NaN</td>\n",
       "      <td>NaN</td>\n",
       "      <td>NaN</td>\n",
       "      <td>NaN</td>\n",
       "      <td>108.000000</td>\n",
       "    </tr>\n",
       "    <tr>\n",
       "      <th>max</th>\n",
       "      <td>NaN</td>\n",
       "      <td>NaN</td>\n",
       "      <td>NaN</td>\n",
       "      <td>NaN</td>\n",
       "      <td>NaN</td>\n",
       "      <td>150.000000</td>\n",
       "    </tr>\n",
       "  </tbody>\n",
       "</table>\n",
       "</div>"
      ],
      "text/plain": [
       "                                                    title     sub_title  \\\n",
       "count                                               68838         65076   \n",
       "unique                                              17566         36273   \n",
       "top     List of fellows of the American Statistical As...  Introduction   \n",
       "freq                                                   93         10513   \n",
       "mean                                                  NaN           NaN   \n",
       "std                                                   NaN           NaN   \n",
       "min                                                   NaN           NaN   \n",
       "25%                                                   NaN           NaN   \n",
       "50%                                                   NaN           NaN   \n",
       "75%                                                   NaN           NaN   \n",
       "max                                                   NaN           NaN   \n",
       "\n",
       "                                                     text  \\\n",
       "count                                               68838   \n",
       "unique                                              68820   \n",
       "top     Proceedings - Proceedings of the International...   \n",
       "freq                                                    5   \n",
       "mean                                                  NaN   \n",
       "std                                                   NaN   \n",
       "min                                                   NaN   \n",
       "25%                                                   NaN   \n",
       "50%                                                   NaN   \n",
       "75%                                                   NaN   \n",
       "max                                                   NaN   \n",
       "\n",
       "                   category  layer        length  \n",
       "count                 68838  68838  68838.000000  \n",
       "unique                   30      2           NaN  \n",
       "top     Applied mathematics      2           NaN  \n",
       "freq                   8698  53700           NaN  \n",
       "mean                    NaN    NaN     76.445205  \n",
       "std                     NaN    NaN     38.226195  \n",
       "min                     NaN    NaN     10.000000  \n",
       "25%                     NaN    NaN     44.000000  \n",
       "50%                     NaN    NaN     74.000000  \n",
       "75%                     NaN    NaN    108.000000  \n",
       "max                     NaN    NaN    150.000000  "
      ]
     },
     "execution_count": 19,
     "metadata": {},
     "output_type": "execute_result"
    }
   ],
   "source": [
    "fine_tune_df.describe(include='all')"
   ]
  },
  {
   "cell_type": "code",
   "execution_count": 20,
   "id": "950bc527",
   "metadata": {},
   "outputs": [
    {
     "data": {
      "text/html": [
       "<div>\n",
       "<style scoped>\n",
       "    .dataframe tbody tr th:only-of-type {\n",
       "        vertical-align: middle;\n",
       "    }\n",
       "\n",
       "    .dataframe tbody tr th {\n",
       "        vertical-align: top;\n",
       "    }\n",
       "\n",
       "    .dataframe thead th {\n",
       "        text-align: right;\n",
       "    }\n",
       "</style>\n",
       "<table border=\"1\" class=\"dataframe\">\n",
       "  <thead>\n",
       "    <tr style=\"text-align: right;\">\n",
       "      <th></th>\n",
       "      <th>title</th>\n",
       "      <th>sub_title</th>\n",
       "      <th>text</th>\n",
       "      <th>category</th>\n",
       "      <th>layer</th>\n",
       "      <th>length</th>\n",
       "    </tr>\n",
       "  </thead>\n",
       "  <tbody>\n",
       "    <tr>\n",
       "      <th>count</th>\n",
       "      <td>143309</td>\n",
       "      <td>135975</td>\n",
       "      <td>143309</td>\n",
       "      <td>143309</td>\n",
       "      <td>143309</td>\n",
       "      <td>143309.000000</td>\n",
       "    </tr>\n",
       "    <tr>\n",
       "      <th>unique</th>\n",
       "      <td>36289</td>\n",
       "      <td>73724</td>\n",
       "      <td>143299</td>\n",
       "      <td>30</td>\n",
       "      <td>3</td>\n",
       "      <td>NaN</td>\n",
       "    </tr>\n",
       "    <tr>\n",
       "      <th>top</th>\n",
       "      <td>List of non-coherent units of measurement</td>\n",
       "      <td>Introduction</td>\n",
       "      <td>The image linked here is claimed to be used un...</td>\n",
       "      <td>Applied mathematics</td>\n",
       "      <td>3</td>\n",
       "      <td>NaN</td>\n",
       "    </tr>\n",
       "    <tr>\n",
       "      <th>freq</th>\n",
       "      <td>95</td>\n",
       "      <td>20160</td>\n",
       "      <td>3</td>\n",
       "      <td>45758</td>\n",
       "      <td>114101</td>\n",
       "      <td>NaN</td>\n",
       "    </tr>\n",
       "    <tr>\n",
       "      <th>mean</th>\n",
       "      <td>NaN</td>\n",
       "      <td>NaN</td>\n",
       "      <td>NaN</td>\n",
       "      <td>NaN</td>\n",
       "      <td>NaN</td>\n",
       "      <td>135.153103</td>\n",
       "    </tr>\n",
       "    <tr>\n",
       "      <th>std</th>\n",
       "      <td>NaN</td>\n",
       "      <td>NaN</td>\n",
       "      <td>NaN</td>\n",
       "      <td>NaN</td>\n",
       "      <td>NaN</td>\n",
       "      <td>77.557210</td>\n",
       "    </tr>\n",
       "    <tr>\n",
       "      <th>min</th>\n",
       "      <td>NaN</td>\n",
       "      <td>NaN</td>\n",
       "      <td>NaN</td>\n",
       "      <td>NaN</td>\n",
       "      <td>NaN</td>\n",
       "      <td>10.000000</td>\n",
       "    </tr>\n",
       "    <tr>\n",
       "      <th>25%</th>\n",
       "      <td>NaN</td>\n",
       "      <td>NaN</td>\n",
       "      <td>NaN</td>\n",
       "      <td>NaN</td>\n",
       "      <td>NaN</td>\n",
       "      <td>67.000000</td>\n",
       "    </tr>\n",
       "    <tr>\n",
       "      <th>50%</th>\n",
       "      <td>NaN</td>\n",
       "      <td>NaN</td>\n",
       "      <td>NaN</td>\n",
       "      <td>NaN</td>\n",
       "      <td>NaN</td>\n",
       "      <td>131.000000</td>\n",
       "    </tr>\n",
       "    <tr>\n",
       "      <th>75%</th>\n",
       "      <td>NaN</td>\n",
       "      <td>NaN</td>\n",
       "      <td>NaN</td>\n",
       "      <td>NaN</td>\n",
       "      <td>NaN</td>\n",
       "      <td>194.000000</td>\n",
       "    </tr>\n",
       "    <tr>\n",
       "      <th>max</th>\n",
       "      <td>NaN</td>\n",
       "      <td>NaN</td>\n",
       "      <td>NaN</td>\n",
       "      <td>NaN</td>\n",
       "      <td>NaN</td>\n",
       "      <td>300.000000</td>\n",
       "    </tr>\n",
       "  </tbody>\n",
       "</table>\n",
       "</div>"
      ],
      "text/plain": [
       "                                            title     sub_title  \\\n",
       "count                                      143309        135975   \n",
       "unique                                      36289         73724   \n",
       "top     List of non-coherent units of measurement  Introduction   \n",
       "freq                                           95         20160   \n",
       "mean                                          NaN           NaN   \n",
       "std                                           NaN           NaN   \n",
       "min                                           NaN           NaN   \n",
       "25%                                           NaN           NaN   \n",
       "50%                                           NaN           NaN   \n",
       "75%                                           NaN           NaN   \n",
       "max                                           NaN           NaN   \n",
       "\n",
       "                                                     text  \\\n",
       "count                                              143309   \n",
       "unique                                             143299   \n",
       "top     The image linked here is claimed to be used un...   \n",
       "freq                                                    3   \n",
       "mean                                                  NaN   \n",
       "std                                                   NaN   \n",
       "min                                                   NaN   \n",
       "25%                                                   NaN   \n",
       "50%                                                   NaN   \n",
       "75%                                                   NaN   \n",
       "max                                                   NaN   \n",
       "\n",
       "                   category   layer         length  \n",
       "count                143309  143309  143309.000000  \n",
       "unique                   30       3            NaN  \n",
       "top     Applied mathematics       3            NaN  \n",
       "freq                  45758  114101            NaN  \n",
       "mean                    NaN     NaN     135.153103  \n",
       "std                     NaN     NaN      77.557210  \n",
       "min                     NaN     NaN      10.000000  \n",
       "25%                     NaN     NaN      67.000000  \n",
       "50%                     NaN     NaN     131.000000  \n",
       "75%                     NaN     NaN     194.000000  \n",
       "max                     NaN     NaN     300.000000  "
      ]
     },
     "execution_count": 20,
     "metadata": {},
     "output_type": "execute_result"
    }
   ],
   "source": [
    "rag_df.describe(include='all')"
   ]
  },
  {
   "cell_type": "code",
   "execution_count": 21,
   "id": "7eb55420",
   "metadata": {},
   "outputs": [],
   "source": [
    "from sklearn.model_selection import train_test_split\n",
    "\n",
    "fine_tune_df['stratify'] = fine_tune_df['category'].astype(str) + fine_tune_df['layer'].astype(str)\n",
    "\n",
    "train_df, valid_df = train_test_split(fine_tune_df, test_size=0.1, stratify=fine_tune_df[['stratify']], random_state=42)"
   ]
  },
  {
   "cell_type": "code",
   "execution_count": 22,
   "id": "8ccecce8",
   "metadata": {},
   "outputs": [],
   "source": [
    "for df in [rag_df, train_df, valid_df]:\n",
    "    df.drop(columns=['length', 'layer'], inplace=True)\n",
    "\n",
    "for df in [train_df, valid_df]:\n",
    "    df.drop(columns=['stratify'], inplace=True)"
   ]
  },
  {
   "cell_type": "code",
   "execution_count": 23,
   "id": "83af03b1",
   "metadata": {},
   "outputs": [],
   "source": [
    "from datasets import Dataset, DatasetDict\n",
    "\n",
    "train_ds = Dataset.from_pandas(train_df, preserve_index=False)\n",
    "valid_ds = Dataset.from_pandas(valid_df, preserve_index=False)\n",
    "rag_ds = Dataset.from_pandas(rag_df, preserve_index=False)\n",
    "\n",
    "ds = DatasetDict({\n",
    "    'train': train_ds,\n",
    "    'valid': valid_ds,\n",
    "    'rag': rag_ds\n",
    "})"
   ]
  },
  {
   "cell_type": "code",
   "execution_count": 24,
   "id": "038e8c8d",
   "metadata": {},
   "outputs": [
    {
     "data": {
      "text/plain": [
       "DatasetDict({\n",
       "    train: Dataset({\n",
       "        features: ['title', 'sub_title', 'text', 'category'],\n",
       "        num_rows: 61954\n",
       "    })\n",
       "    valid: Dataset({\n",
       "        features: ['title', 'sub_title', 'text', 'category'],\n",
       "        num_rows: 6884\n",
       "    })\n",
       "    rag: Dataset({\n",
       "        features: ['title', 'sub_title', 'text', 'category'],\n",
       "        num_rows: 143309\n",
       "    })\n",
       "})"
      ]
     },
     "execution_count": 24,
     "metadata": {},
     "output_type": "execute_result"
    }
   ],
   "source": [
    "ds"
   ]
  },
  {
   "cell_type": "code",
   "execution_count": 25,
   "id": "63d86a06",
   "metadata": {},
   "outputs": [
    {
     "data": {
      "application/vnd.jupyter.widget-view+json": {
       "model_id": "945894b23b494b32b31c7a4a7dfe7d3f",
       "version_major": 2,
       "version_minor": 0
      },
      "text/plain": [
       "VBox(children=(HTML(value='<center> <img\\nsrc=https://huggingface.co/front/assets/huggingface_logo-noborder.sv…"
      ]
     },
     "metadata": {},
     "output_type": "display_data"
    }
   ],
   "source": [
    "from huggingface_hub import login\n",
    "\n",
    "login()"
   ]
  },
  {
   "cell_type": "code",
   "execution_count": 26,
   "id": "0b09e193",
   "metadata": {},
   "outputs": [
    {
     "data": {
      "application/vnd.jupyter.widget-view+json": {
       "model_id": "06e68fec801448acb1a1557217dc3563",
       "version_major": 2,
       "version_minor": 0
      },
      "text/plain": [
       "Uploading the dataset shards:   0%|          | 0/1 [00:00<?, ? shards/s]"
      ]
     },
     "metadata": {},
     "output_type": "display_data"
    },
    {
     "data": {
      "application/vnd.jupyter.widget-view+json": {
       "model_id": "b7ad2e69ceae4bfdab28db245b8b112b",
       "version_major": 2,
       "version_minor": 0
      },
      "text/plain": [
       "Creating parquet from Arrow format:   0%|          | 0/62 [00:00<?, ?ba/s]"
      ]
     },
     "metadata": {},
     "output_type": "display_data"
    },
    {
     "data": {
      "application/vnd.jupyter.widget-view+json": {
       "model_id": "7150a1e17e3e412da37c70b558eb6564",
       "version_major": 2,
       "version_minor": 0
      },
      "text/plain": [
       "Processing Files (0 / 0)                : |          |  0.00B /  0.00B            "
      ]
     },
     "metadata": {},
     "output_type": "display_data"
    },
    {
     "data": {
      "application/vnd.jupyter.widget-view+json": {
       "model_id": "cf082d3b5c0f4a0c93a51831c3eabbf8",
       "version_major": 2,
       "version_minor": 0
      },
      "text/plain": [
       "New Data Upload                         : |          |  0.00B /  0.00B            "
      ]
     },
     "metadata": {},
     "output_type": "display_data"
    },
    {
     "data": {
      "application/vnd.jupyter.widget-view+json": {
       "model_id": "8d3fe955f58941dfb8cbe6ec6acb80cf",
       "version_major": 2,
       "version_minor": 0
      },
      "text/plain": [
       "                                        :   2%|2         |  525kB / 24.3MB            "
      ]
     },
     "metadata": {},
     "output_type": "display_data"
    },
    {
     "data": {
      "application/vnd.jupyter.widget-view+json": {
       "model_id": "dc1b2e01cc0642ceb216bb5722990f8b",
       "version_major": 2,
       "version_minor": 0
      },
      "text/plain": [
       "Uploading the dataset shards:   0%|          | 0/1 [00:00<?, ? shards/s]"
      ]
     },
     "metadata": {},
     "output_type": "display_data"
    },
    {
     "data": {
      "application/vnd.jupyter.widget-view+json": {
       "model_id": "754a6117f5a3400da7d7602d35c12596",
       "version_major": 2,
       "version_minor": 0
      },
      "text/plain": [
       "Creating parquet from Arrow format:   0%|          | 0/7 [00:00<?, ?ba/s]"
      ]
     },
     "metadata": {},
     "output_type": "display_data"
    },
    {
     "data": {
      "application/vnd.jupyter.widget-view+json": {
       "model_id": "8a7e1b4056dc41a89176e89360b2cb7c",
       "version_major": 2,
       "version_minor": 0
      },
      "text/plain": [
       "Processing Files (0 / 0)                : |          |  0.00B /  0.00B            "
      ]
     },
     "metadata": {},
     "output_type": "display_data"
    },
    {
     "data": {
      "application/vnd.jupyter.widget-view+json": {
       "model_id": "c2866bf2fbc84d67a44f358c5cf96def",
       "version_major": 2,
       "version_minor": 0
      },
      "text/plain": [
       "New Data Upload                         : |          |  0.00B /  0.00B            "
      ]
     },
     "metadata": {},
     "output_type": "display_data"
    },
    {
     "data": {
      "application/vnd.jupyter.widget-view+json": {
       "model_id": "94df3676f15248b988481235af267e98",
       "version_major": 2,
       "version_minor": 0
      },
      "text/plain": [
       "                                        :  19%|#9        |  525kB / 2.70MB            "
      ]
     },
     "metadata": {},
     "output_type": "display_data"
    },
    {
     "data": {
      "application/vnd.jupyter.widget-view+json": {
       "model_id": "cecf746bbd694b89a42ace436c8759f3",
       "version_major": 2,
       "version_minor": 0
      },
      "text/plain": [
       "Uploading the dataset shards:   0%|          | 0/1 [00:00<?, ? shards/s]"
      ]
     },
     "metadata": {},
     "output_type": "display_data"
    },
    {
     "data": {
      "application/vnd.jupyter.widget-view+json": {
       "model_id": "23c84593be334d9386dd4e7737d36772",
       "version_major": 2,
       "version_minor": 0
      },
      "text/plain": [
       "Creating parquet from Arrow format:   0%|          | 0/144 [00:00<?, ?ba/s]"
      ]
     },
     "metadata": {},
     "output_type": "display_data"
    },
    {
     "data": {
      "application/vnd.jupyter.widget-view+json": {
       "model_id": "9ec75620d5444d409b08998940c85e50",
       "version_major": 2,
       "version_minor": 0
      },
      "text/plain": [
       "Processing Files (0 / 0)                : |          |  0.00B /  0.00B            "
      ]
     },
     "metadata": {},
     "output_type": "display_data"
    },
    {
     "data": {
      "application/vnd.jupyter.widget-view+json": {
       "model_id": "8ac5d446b5224ad2b1e06eb8086c414e",
       "version_major": 2,
       "version_minor": 0
      },
      "text/plain": [
       "New Data Upload                         : |          |  0.00B /  0.00B            "
      ]
     },
     "metadata": {},
     "output_type": "display_data"
    },
    {
     "data": {
      "application/vnd.jupyter.widget-view+json": {
       "model_id": "6afe11c01af84ae3885bc096ab47082a",
       "version_major": 2,
       "version_minor": 0
      },
      "text/plain": [
       "                                        :   1%|1         | 1.05MB / 81.0MB            "
      ]
     },
     "metadata": {},
     "output_type": "display_data"
    },
    {
     "data": {
      "text/plain": [
       "CommitInfo(commit_url='https://huggingface.co/datasets/noor-zalouk/wiki-math-articles/commit/95c59fd0a8a2960df90cb4cbb71e5265c7561df4', commit_message='Upload dataset', commit_description='', oid='95c59fd0a8a2960df90cb4cbb71e5265c7561df4', pr_url=None, repo_url=RepoUrl('https://huggingface.co/datasets/noor-zalouk/wiki-math-articles', endpoint='https://huggingface.co', repo_type='dataset', repo_id='noor-zalouk/wiki-math-articles'), pr_revision=None, pr_num=None)"
      ]
     },
     "execution_count": 26,
     "metadata": {},
     "output_type": "execute_result"
    }
   ],
   "source": [
    "repo_id = \"noor-zalouk/wiki-math-articles\"\n",
    "ds.push_to_hub(repo_id)"
   ]
  },
  {
   "cell_type": "code",
   "execution_count": null,
   "id": "3d9cdba4",
   "metadata": {},
   "outputs": [],
   "source": []
  }
 ],
 "metadata": {
  "kernelspec": {
   "display_name": "base",
   "language": "python",
   "name": "python3"
  },
  "language_info": {
   "codemirror_mode": {
    "name": "ipython",
    "version": 3
   },
   "file_extension": ".py",
   "mimetype": "text/x-python",
   "name": "python",
   "nbconvert_exporter": "python",
   "pygments_lexer": "ipython3",
   "version": "3.13.5"
  }
 },
 "nbformat": 4,
 "nbformat_minor": 5
}
