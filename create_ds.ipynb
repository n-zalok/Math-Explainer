{
 "cells": [
  {
   "cell_type": "code",
   "execution_count": 1,
   "id": "3a577bd7",
   "metadata": {},
   "outputs": [],
   "source": [
    "import json\n",
    "import os\n",
    "\n",
    "depth = 3\n",
    "directory_path = f'./airflow/cleaned_data_{depth}'\n",
    "data = []\n",
    "\n",
    "for file in os.scandir(directory_path):\n",
    "    try:\n",
    "        with open(file.path, 'r') as f: \n",
    "            data.extend(json.load(f))\n",
    "\n",
    "    except Exception as e:\n",
    "        print(f\"Error reading {file.name}: {e}\")"
   ]
  },
  {
   "cell_type": "code",
   "execution_count": 2,
   "id": "3e3178ed",
   "metadata": {},
   "outputs": [
    {
     "data": {
      "text/plain": [
       "387528"
      ]
     },
     "execution_count": 2,
     "metadata": {},
     "output_type": "execute_result"
    }
   ],
   "source": [
    "og_len = len(data)\n",
    "og_len"
   ]
  },
  {
   "cell_type": "code",
   "execution_count": 3,
   "id": "ff8b94e8",
   "metadata": {},
   "outputs": [
    {
     "data": {
      "text/html": [
       "<div>\n",
       "<style scoped>\n",
       "    .dataframe tbody tr th:only-of-type {\n",
       "        vertical-align: middle;\n",
       "    }\n",
       "\n",
       "    .dataframe tbody tr th {\n",
       "        vertical-align: top;\n",
       "    }\n",
       "\n",
       "    .dataframe thead th {\n",
       "        text-align: right;\n",
       "    }\n",
       "</style>\n",
       "<table border=\"1\" class=\"dataframe\">\n",
       "  <thead>\n",
       "    <tr style=\"text-align: right;\">\n",
       "      <th></th>\n",
       "      <th>title</th>\n",
       "      <th>sub_title</th>\n",
       "      <th>text</th>\n",
       "      <th>category</th>\n",
       "      <th>layer</th>\n",
       "    </tr>\n",
       "  </thead>\n",
       "  <tbody>\n",
       "    <tr>\n",
       "      <th>387527</th>\n",
       "      <td>Young subgroup</td>\n",
       "      <td>None</td>\n",
       "      <td>Inmathematics, theYoung subgroupsof thesymmetr...</td>\n",
       "      <td>Combinatorics</td>\n",
       "      <td>1</td>\n",
       "    </tr>\n",
       "    <tr>\n",
       "      <th>154432</th>\n",
       "      <td>Projective plane</td>\n",
       "      <td>Finite projective planes</td>\n",
       "      <td>It can be shown that a projective plane has th...</td>\n",
       "      <td>Algebraic geometry</td>\n",
       "      <td>1</td>\n",
       "    </tr>\n",
       "    <tr>\n",
       "      <th>154431</th>\n",
       "      <td>Projective plane</td>\n",
       "      <td>Correlations</td>\n",
       "      <td>Adualityis a map from a projective planeto its...</td>\n",
       "      <td>Algebraic geometry</td>\n",
       "      <td>1</td>\n",
       "    </tr>\n",
       "    <tr>\n",
       "      <th>154430</th>\n",
       "      <td>Projective plane</td>\n",
       "      <td>Plane duality</td>\n",
       "      <td>A projective plane is defined axiomatically as...</td>\n",
       "      <td>Algebraic geometry</td>\n",
       "      <td>1</td>\n",
       "    </tr>\n",
       "    <tr>\n",
       "      <th>154429</th>\n",
       "      <td>Projective plane</td>\n",
       "      <td>Homography</td>\n",
       "      <td>Ahomography(orprojective transformation) of PG...</td>\n",
       "      <td>Algebraic geometry</td>\n",
       "      <td>1</td>\n",
       "    </tr>\n",
       "    <tr>\n",
       "      <th>...</th>\n",
       "      <td>...</td>\n",
       "      <td>...</td>\n",
       "      <td>...</td>\n",
       "      <td>...</td>\n",
       "      <td>...</td>\n",
       "    </tr>\n",
       "    <tr>\n",
       "      <th>197179</th>\n",
       "      <td>Futures techniques</td>\n",
       "      <td>Introduction</td>\n",
       "      <td>Futures techniquesused in the multi-disciplina...</td>\n",
       "      <td>Analysis</td>\n",
       "      <td>3</td>\n",
       "    </tr>\n",
       "    <tr>\n",
       "      <th>197180</th>\n",
       "      <td>Futures techniques</td>\n",
       "      <td>Delphi method</td>\n",
       "      <td>The Delphi method is a popular technique used ...</td>\n",
       "      <td>Analysis</td>\n",
       "      <td>3</td>\n",
       "    </tr>\n",
       "    <tr>\n",
       "      <th>197181</th>\n",
       "      <td>Futures techniques</td>\n",
       "      <td>Causal layered analysis (CLA)</td>\n",
       "      <td>This method, developed bySohail Inayatullah, i...</td>\n",
       "      <td>Analysis</td>\n",
       "      <td>3</td>\n",
       "    </tr>\n",
       "    <tr>\n",
       "      <th>197151</th>\n",
       "      <td>Futures studies</td>\n",
       "      <td>Branching trends</td>\n",
       "      <td>Very often, trends relate to one another the s...</td>\n",
       "      <td>Analysis</td>\n",
       "      <td>3</td>\n",
       "    </tr>\n",
       "    <tr>\n",
       "      <th>193763</th>\n",
       "      <td>International Classification of Diseases</td>\n",
       "      <td>ICDA-8 (United States)</td>\n",
       "      <td>In the US, a group of consultants was asked to...</td>\n",
       "      <td>Analysis</td>\n",
       "      <td>3</td>\n",
       "    </tr>\n",
       "  </tbody>\n",
       "</table>\n",
       "<p>387528 rows × 5 columns</p>\n",
       "</div>"
      ],
      "text/plain": [
       "                                           title  \\\n",
       "387527                            Young subgroup   \n",
       "154432                          Projective plane   \n",
       "154431                          Projective plane   \n",
       "154430                          Projective plane   \n",
       "154429                          Projective plane   \n",
       "...                                          ...   \n",
       "197179                        Futures techniques   \n",
       "197180                        Futures techniques   \n",
       "197181                        Futures techniques   \n",
       "197151                           Futures studies   \n",
       "193763  International Classification of Diseases   \n",
       "\n",
       "                            sub_title  \\\n",
       "387527                           None   \n",
       "154432       Finite projective planes   \n",
       "154431                   Correlations   \n",
       "154430                  Plane duality   \n",
       "154429                     Homography   \n",
       "...                               ...   \n",
       "197179                   Introduction   \n",
       "197180                  Delphi method   \n",
       "197181  Causal layered analysis (CLA)   \n",
       "197151               Branching trends   \n",
       "193763         ICDA-8 (United States)   \n",
       "\n",
       "                                                     text            category  \\\n",
       "387527  Inmathematics, theYoung subgroupsof thesymmetr...       Combinatorics   \n",
       "154432  It can be shown that a projective plane has th...  Algebraic geometry   \n",
       "154431  Adualityis a map from a projective planeto its...  Algebraic geometry   \n",
       "154430  A projective plane is defined axiomatically as...  Algebraic geometry   \n",
       "154429  Ahomography(orprojective transformation) of PG...  Algebraic geometry   \n",
       "...                                                   ...                 ...   \n",
       "197179  Futures techniquesused in the multi-disciplina...            Analysis   \n",
       "197180  The Delphi method is a popular technique used ...            Analysis   \n",
       "197181  This method, developed bySohail Inayatullah, i...            Analysis   \n",
       "197151  Very often, trends relate to one another the s...            Analysis   \n",
       "193763  In the US, a group of consultants was asked to...            Analysis   \n",
       "\n",
       "       layer  \n",
       "387527     1  \n",
       "154432     1  \n",
       "154431     1  \n",
       "154430     1  \n",
       "154429     1  \n",
       "...      ...  \n",
       "197179     3  \n",
       "197180     3  \n",
       "197181     3  \n",
       "197151     3  \n",
       "193763     3  \n",
       "\n",
       "[387528 rows x 5 columns]"
      ]
     },
     "execution_count": 3,
     "metadata": {},
     "output_type": "execute_result"
    }
   ],
   "source": [
    "import pandas as pd\n",
    "\n",
    "data = pd.DataFrame(data)\n",
    "data = data.sort_values(by='layer', ascending=True)\n",
    "data\n"
   ]
  },
  {
   "cell_type": "code",
   "execution_count": 4,
   "id": "abfe43a1",
   "metadata": {},
   "outputs": [
    {
     "name": "stdout",
     "output_type": "stream",
     "text": [
      "64.14% of df remained\n"
     ]
    }
   ],
   "source": [
    "data = data.drop_duplicates(subset=['text', 'sub_title'])\n",
    "print(f'{len(data)/og_len:.2%} of df remained')"
   ]
  },
  {
   "cell_type": "code",
   "execution_count": 5,
   "id": "19cb19cf",
   "metadata": {},
   "outputs": [
    {
     "name": "stderr",
     "output_type": "stream",
     "text": [
      "/tmp/ipykernel_27625/1579233866.py:1: SettingWithCopyWarning: \n",
      "A value is trying to be set on a copy of a slice from a DataFrame.\n",
      "Try using .loc[row_indexer,col_indexer] = value instead\n",
      "\n",
      "See the caveats in the documentation: https://pandas.pydata.org/pandas-docs/stable/user_guide/indexing.html#returning-a-view-versus-a-copy\n",
      "  data['length'] = data['text'].apply(lambda x: len(x.split()))\n"
     ]
    },
    {
     "data": {
      "text/html": [
       "<div>\n",
       "<style scoped>\n",
       "    .dataframe tbody tr th:only-of-type {\n",
       "        vertical-align: middle;\n",
       "    }\n",
       "\n",
       "    .dataframe tbody tr th {\n",
       "        vertical-align: top;\n",
       "    }\n",
       "\n",
       "    .dataframe thead th {\n",
       "        text-align: right;\n",
       "    }\n",
       "</style>\n",
       "<table border=\"1\" class=\"dataframe\">\n",
       "  <thead>\n",
       "    <tr style=\"text-align: right;\">\n",
       "      <th></th>\n",
       "      <th>title</th>\n",
       "      <th>sub_title</th>\n",
       "      <th>text</th>\n",
       "      <th>category</th>\n",
       "      <th>layer</th>\n",
       "      <th>length</th>\n",
       "    </tr>\n",
       "  </thead>\n",
       "  <tbody>\n",
       "    <tr>\n",
       "      <th>count</th>\n",
       "      <td>248560</td>\n",
       "      <td>236222</td>\n",
       "      <td>248560</td>\n",
       "      <td>248560</td>\n",
       "      <td>248560</td>\n",
       "      <td>248560.000000</td>\n",
       "    </tr>\n",
       "    <tr>\n",
       "      <th>unique</th>\n",
       "      <td>45624</td>\n",
       "      <td>122944</td>\n",
       "      <td>247970</td>\n",
       "      <td>30</td>\n",
       "      <td>3</td>\n",
       "      <td>NaN</td>\n",
       "    </tr>\n",
       "    <tr>\n",
       "      <th>top</th>\n",
       "      <td>List of fellows of the American Statistical As...</td>\n",
       "      <td>Introduction</td>\n",
       "      <td>*</td>\n",
       "      <td>Applied mathematics</td>\n",
       "      <td>3</td>\n",
       "      <td>NaN</td>\n",
       "    </tr>\n",
       "    <tr>\n",
       "      <th>freq</th>\n",
       "      <td>108</td>\n",
       "      <td>33243</td>\n",
       "      <td>87</td>\n",
       "      <td>64166</td>\n",
       "      <td>134604</td>\n",
       "      <td>NaN</td>\n",
       "    </tr>\n",
       "    <tr>\n",
       "      <th>mean</th>\n",
       "      <td>NaN</td>\n",
       "      <td>NaN</td>\n",
       "      <td>NaN</td>\n",
       "      <td>NaN</td>\n",
       "      <td>NaN</td>\n",
       "      <td>162.247083</td>\n",
       "    </tr>\n",
       "    <tr>\n",
       "      <th>std</th>\n",
       "      <td>NaN</td>\n",
       "      <td>NaN</td>\n",
       "      <td>NaN</td>\n",
       "      <td>NaN</td>\n",
       "      <td>NaN</td>\n",
       "      <td>215.977352</td>\n",
       "    </tr>\n",
       "    <tr>\n",
       "      <th>min</th>\n",
       "      <td>NaN</td>\n",
       "      <td>NaN</td>\n",
       "      <td>NaN</td>\n",
       "      <td>NaN</td>\n",
       "      <td>NaN</td>\n",
       "      <td>0.000000</td>\n",
       "    </tr>\n",
       "    <tr>\n",
       "      <th>25%</th>\n",
       "      <td>NaN</td>\n",
       "      <td>NaN</td>\n",
       "      <td>NaN</td>\n",
       "      <td>NaN</td>\n",
       "      <td>NaN</td>\n",
       "      <td>59.000000</td>\n",
       "    </tr>\n",
       "    <tr>\n",
       "      <th>50%</th>\n",
       "      <td>NaN</td>\n",
       "      <td>NaN</td>\n",
       "      <td>NaN</td>\n",
       "      <td>NaN</td>\n",
       "      <td>NaN</td>\n",
       "      <td>115.000000</td>\n",
       "    </tr>\n",
       "    <tr>\n",
       "      <th>75%</th>\n",
       "      <td>NaN</td>\n",
       "      <td>NaN</td>\n",
       "      <td>NaN</td>\n",
       "      <td>NaN</td>\n",
       "      <td>NaN</td>\n",
       "      <td>204.000000</td>\n",
       "    </tr>\n",
       "    <tr>\n",
       "      <th>max</th>\n",
       "      <td>NaN</td>\n",
       "      <td>NaN</td>\n",
       "      <td>NaN</td>\n",
       "      <td>NaN</td>\n",
       "      <td>NaN</td>\n",
       "      <td>33122.000000</td>\n",
       "    </tr>\n",
       "  </tbody>\n",
       "</table>\n",
       "</div>"
      ],
      "text/plain": [
       "                                                    title     sub_title  \\\n",
       "count                                              248560        236222   \n",
       "unique                                              45624        122944   \n",
       "top     List of fellows of the American Statistical As...  Introduction   \n",
       "freq                                                  108         33243   \n",
       "mean                                                  NaN           NaN   \n",
       "std                                                   NaN           NaN   \n",
       "min                                                   NaN           NaN   \n",
       "25%                                                   NaN           NaN   \n",
       "50%                                                   NaN           NaN   \n",
       "75%                                                   NaN           NaN   \n",
       "max                                                   NaN           NaN   \n",
       "\n",
       "          text             category   layer         length  \n",
       "count   248560               248560  248560  248560.000000  \n",
       "unique  247970                   30       3            NaN  \n",
       "top          *  Applied mathematics       3            NaN  \n",
       "freq        87                64166  134604            NaN  \n",
       "mean       NaN                  NaN     NaN     162.247083  \n",
       "std        NaN                  NaN     NaN     215.977352  \n",
       "min        NaN                  NaN     NaN       0.000000  \n",
       "25%        NaN                  NaN     NaN      59.000000  \n",
       "50%        NaN                  NaN     NaN     115.000000  \n",
       "75%        NaN                  NaN     NaN     204.000000  \n",
       "max        NaN                  NaN     NaN   33122.000000  "
      ]
     },
     "execution_count": 5,
     "metadata": {},
     "output_type": "execute_result"
    }
   ],
   "source": [
    "data['length'] = data['text'].apply(lambda x: len(x.split()))\n",
    "data.describe(include='all')"
   ]
  },
  {
   "cell_type": "code",
   "execution_count": 6,
   "id": "9be469ed",
   "metadata": {},
   "outputs": [
    {
     "data": {
      "text/plain": [
       "0.50    115.0\n",
       "0.90    334.0\n",
       "0.95    449.0\n",
       "0.99    793.0\n",
       "Name: length, dtype: float64"
      ]
     },
     "execution_count": 6,
     "metadata": {},
     "output_type": "execute_result"
    }
   ],
   "source": [
    "percentiles = data['length'].quantile([0.5, 0.9, 0.95, 0.99])\n",
    "percentiles"
   ]
  },
  {
   "cell_type": "code",
   "execution_count": 7,
   "id": "3ddc0150",
   "metadata": {},
   "outputs": [
    {
     "name": "stdout",
     "output_type": "stream",
     "text": [
      "63.50% of df remained\n"
     ]
    },
    {
     "data": {
      "text/html": [
       "<div>\n",
       "<style scoped>\n",
       "    .dataframe tbody tr th:only-of-type {\n",
       "        vertical-align: middle;\n",
       "    }\n",
       "\n",
       "    .dataframe tbody tr th {\n",
       "        vertical-align: top;\n",
       "    }\n",
       "\n",
       "    .dataframe thead th {\n",
       "        text-align: right;\n",
       "    }\n",
       "</style>\n",
       "<table border=\"1\" class=\"dataframe\">\n",
       "  <thead>\n",
       "    <tr style=\"text-align: right;\">\n",
       "      <th></th>\n",
       "      <th>title</th>\n",
       "      <th>sub_title</th>\n",
       "      <th>text</th>\n",
       "      <th>category</th>\n",
       "      <th>layer</th>\n",
       "      <th>length</th>\n",
       "    </tr>\n",
       "  </thead>\n",
       "  <tbody>\n",
       "    <tr>\n",
       "      <th>count</th>\n",
       "      <td>246082</td>\n",
       "      <td>233744</td>\n",
       "      <td>246082</td>\n",
       "      <td>246082</td>\n",
       "      <td>246082</td>\n",
       "      <td>246082.000000</td>\n",
       "    </tr>\n",
       "    <tr>\n",
       "      <th>unique</th>\n",
       "      <td>45560</td>\n",
       "      <td>121548</td>\n",
       "      <td>245492</td>\n",
       "      <td>30</td>\n",
       "      <td>3</td>\n",
       "      <td>NaN</td>\n",
       "    </tr>\n",
       "    <tr>\n",
       "      <th>top</th>\n",
       "      <td>List of fellows of the American Statistical As...</td>\n",
       "      <td>Introduction</td>\n",
       "      <td>*</td>\n",
       "      <td>Applied mathematics</td>\n",
       "      <td>3</td>\n",
       "      <td>NaN</td>\n",
       "    </tr>\n",
       "    <tr>\n",
       "      <th>freq</th>\n",
       "      <td>108</td>\n",
       "      <td>33147</td>\n",
       "      <td>87</td>\n",
       "      <td>63507</td>\n",
       "      <td>133100</td>\n",
       "      <td>NaN</td>\n",
       "    </tr>\n",
       "    <tr>\n",
       "      <th>mean</th>\n",
       "      <td>NaN</td>\n",
       "      <td>NaN</td>\n",
       "      <td>NaN</td>\n",
       "      <td>NaN</td>\n",
       "      <td>NaN</td>\n",
       "      <td>150.355357</td>\n",
       "    </tr>\n",
       "    <tr>\n",
       "      <th>std</th>\n",
       "      <td>NaN</td>\n",
       "      <td>NaN</td>\n",
       "      <td>NaN</td>\n",
       "      <td>NaN</td>\n",
       "      <td>NaN</td>\n",
       "      <td>129.602783</td>\n",
       "    </tr>\n",
       "    <tr>\n",
       "      <th>min</th>\n",
       "      <td>NaN</td>\n",
       "      <td>NaN</td>\n",
       "      <td>NaN</td>\n",
       "      <td>NaN</td>\n",
       "      <td>NaN</td>\n",
       "      <td>0.000000</td>\n",
       "    </tr>\n",
       "    <tr>\n",
       "      <th>25%</th>\n",
       "      <td>NaN</td>\n",
       "      <td>NaN</td>\n",
       "      <td>NaN</td>\n",
       "      <td>NaN</td>\n",
       "      <td>NaN</td>\n",
       "      <td>59.000000</td>\n",
       "    </tr>\n",
       "    <tr>\n",
       "      <th>50%</th>\n",
       "      <td>NaN</td>\n",
       "      <td>NaN</td>\n",
       "      <td>NaN</td>\n",
       "      <td>NaN</td>\n",
       "      <td>NaN</td>\n",
       "      <td>114.000000</td>\n",
       "    </tr>\n",
       "    <tr>\n",
       "      <th>75%</th>\n",
       "      <td>NaN</td>\n",
       "      <td>NaN</td>\n",
       "      <td>NaN</td>\n",
       "      <td>NaN</td>\n",
       "      <td>NaN</td>\n",
       "      <td>200.000000</td>\n",
       "    </tr>\n",
       "    <tr>\n",
       "      <th>max</th>\n",
       "      <td>NaN</td>\n",
       "      <td>NaN</td>\n",
       "      <td>NaN</td>\n",
       "      <td>NaN</td>\n",
       "      <td>NaN</td>\n",
       "      <td>793.000000</td>\n",
       "    </tr>\n",
       "  </tbody>\n",
       "</table>\n",
       "</div>"
      ],
      "text/plain": [
       "                                                    title     sub_title  \\\n",
       "count                                              246082        233744   \n",
       "unique                                              45560        121548   \n",
       "top     List of fellows of the American Statistical As...  Introduction   \n",
       "freq                                                  108         33147   \n",
       "mean                                                  NaN           NaN   \n",
       "std                                                   NaN           NaN   \n",
       "min                                                   NaN           NaN   \n",
       "25%                                                   NaN           NaN   \n",
       "50%                                                   NaN           NaN   \n",
       "75%                                                   NaN           NaN   \n",
       "max                                                   NaN           NaN   \n",
       "\n",
       "          text             category   layer         length  \n",
       "count   246082               246082  246082  246082.000000  \n",
       "unique  245492                   30       3            NaN  \n",
       "top          *  Applied mathematics       3            NaN  \n",
       "freq        87                63507  133100            NaN  \n",
       "mean       NaN                  NaN     NaN     150.355357  \n",
       "std        NaN                  NaN     NaN     129.602783  \n",
       "min        NaN                  NaN     NaN       0.000000  \n",
       "25%        NaN                  NaN     NaN      59.000000  \n",
       "50%        NaN                  NaN     NaN     114.000000  \n",
       "75%        NaN                  NaN     NaN     200.000000  \n",
       "max        NaN                  NaN     NaN     793.000000  "
      ]
     },
     "execution_count": 7,
     "metadata": {},
     "output_type": "execute_result"
    }
   ],
   "source": [
    "data = data[data['length'] <= percentiles[0.99]]\n",
    "print(f'{len(data)/og_len:.2%} of df remained')\n",
    "data.describe(include='all')"
   ]
  },
  {
   "cell_type": "code",
   "execution_count": 8,
   "id": "eb4bd699",
   "metadata": {},
   "outputs": [
    {
     "data": {
      "image/png": "[encoded data removed]",
      "text/plain": [
       "<Figure size 1000x600 with 1 Axes>"
      ]
     },
     "metadata": {},
     "output_type": "display_data"
    }
   ],
   "source": [
    "import matplotlib.pyplot as plt\n",
    "\n",
    "plt.figure(figsize=(10, 6))\n",
    "plt.hist(data['length'], bins=100, color='blue', edgecolor='black')\n",
    "plt.title('Distribution of Text Lengths')\n",
    "plt.xlabel('Number of words')\n",
    "plt.ylabel('Frequency')\n",
    "plt.grid(axis='y')\n",
    "plt.show()"
   ]
  },
  {
   "cell_type": "code",
   "execution_count": 9,
   "id": "e258308f",
   "metadata": {},
   "outputs": [],
   "source": [
    "import math\n",
    "\n",
    "def chunk(row):\n",
    "    chunk_size = 250\n",
    "    overlap_size = 100\n",
    "    added_size  = chunk_size - overlap_size\n",
    "    if row['length'] <= chunk_size:\n",
    "        yield {'title': row['title'], 'sub_title': row['sub_title'],\n",
    "                'text': row['text'], 'category': row['category'],\n",
    "                'layer': row['layer'], 'length': row['length']}\n",
    "    else:\n",
    "        text = row['text'].split()\n",
    "        text_len = len(text)\n",
    "        for i in range(math.ceil((row['length']-chunk_size)/added_size) + 1):\n",
    "            yield {'title': row['title'], 'sub_title': row['sub_title'],\n",
    "                   'text': ' '.join(text[(i*added_size) : min((chunk_size+(i*added_size)), text_len)]),\n",
    "                   'category': row['category'], 'layer': row['layer'],\n",
    "                   'length': (min((chunk_size+(i*added_size)), text_len) - (i*added_size))}"
   ]
  },
  {
   "cell_type": "code",
   "execution_count": 10,
   "id": "36aa8524",
   "metadata": {},
   "outputs": [],
   "source": [
    "# Apply chunking to each row and flatten results\n",
    "chunked = data.apply(lambda row: list(chunk(row)), axis=1)\n",
    "\n",
    "# Flatten list of lists into one DataFrame\n",
    "data = pd.DataFrame([row for sublist in chunked for row in sublist])"
   ]
  },
  {
   "cell_type": "code",
   "execution_count": 11,
   "id": "cc68a31d",
   "metadata": {},
   "outputs": [
    {
     "data": {
      "text/html": [
       "<div>\n",
       "<style scoped>\n",
       "    .dataframe tbody tr th:only-of-type {\n",
       "        vertical-align: middle;\n",
       "    }\n",
       "\n",
       "    .dataframe tbody tr th {\n",
       "        vertical-align: top;\n",
       "    }\n",
       "\n",
       "    .dataframe thead th {\n",
       "        text-align: right;\n",
       "    }\n",
       "</style>\n",
       "<table border=\"1\" class=\"dataframe\">\n",
       "  <thead>\n",
       "    <tr style=\"text-align: right;\">\n",
       "      <th></th>\n",
       "      <th>title</th>\n",
       "      <th>sub_title</th>\n",
       "      <th>text</th>\n",
       "      <th>category</th>\n",
       "      <th>layer</th>\n",
       "      <th>length</th>\n",
       "    </tr>\n",
       "  </thead>\n",
       "  <tbody>\n",
       "    <tr>\n",
       "      <th>count</th>\n",
       "      <td>293311</td>\n",
       "      <td>282493</td>\n",
       "      <td>293311</td>\n",
       "      <td>293311</td>\n",
       "      <td>293311</td>\n",
       "      <td>293311.000000</td>\n",
       "    </tr>\n",
       "    <tr>\n",
       "      <th>unique</th>\n",
       "      <td>44011</td>\n",
       "      <td>116225</td>\n",
       "      <td>293280</td>\n",
       "      <td>30</td>\n",
       "      <td>3</td>\n",
       "      <td>NaN</td>\n",
       "    </tr>\n",
       "    <tr>\n",
       "      <th>top</th>\n",
       "      <td>Constructive set theory</td>\n",
       "      <td>Introduction</td>\n",
       "      <td>Image;Special fields:This type exists only ove...</td>\n",
       "      <td>Applied mathematics</td>\n",
       "      <td>3</td>\n",
       "      <td>NaN</td>\n",
       "    </tr>\n",
       "    <tr>\n",
       "      <th>freq</th>\n",
       "      <td>131</td>\n",
       "      <td>36648</td>\n",
       "      <td>4</td>\n",
       "      <td>76927</td>\n",
       "      <td>159698</td>\n",
       "      <td>NaN</td>\n",
       "    </tr>\n",
       "    <tr>\n",
       "      <th>mean</th>\n",
       "      <td>NaN</td>\n",
       "      <td>NaN</td>\n",
       "      <td>NaN</td>\n",
       "      <td>NaN</td>\n",
       "      <td>NaN</td>\n",
       "      <td>146.513738</td>\n",
       "    </tr>\n",
       "    <tr>\n",
       "      <th>std</th>\n",
       "      <td>NaN</td>\n",
       "      <td>NaN</td>\n",
       "      <td>NaN</td>\n",
       "      <td>NaN</td>\n",
       "      <td>NaN</td>\n",
       "      <td>75.971197</td>\n",
       "    </tr>\n",
       "    <tr>\n",
       "      <th>min</th>\n",
       "      <td>NaN</td>\n",
       "      <td>NaN</td>\n",
       "      <td>NaN</td>\n",
       "      <td>NaN</td>\n",
       "      <td>NaN</td>\n",
       "      <td>20.000000</td>\n",
       "    </tr>\n",
       "    <tr>\n",
       "      <th>25%</th>\n",
       "      <td>NaN</td>\n",
       "      <td>NaN</td>\n",
       "      <td>NaN</td>\n",
       "      <td>NaN</td>\n",
       "      <td>NaN</td>\n",
       "      <td>80.000000</td>\n",
       "    </tr>\n",
       "    <tr>\n",
       "      <th>50%</th>\n",
       "      <td>NaN</td>\n",
       "      <td>NaN</td>\n",
       "      <td>NaN</td>\n",
       "      <td>NaN</td>\n",
       "      <td>NaN</td>\n",
       "      <td>139.000000</td>\n",
       "    </tr>\n",
       "    <tr>\n",
       "      <th>75%</th>\n",
       "      <td>NaN</td>\n",
       "      <td>NaN</td>\n",
       "      <td>NaN</td>\n",
       "      <td>NaN</td>\n",
       "      <td>NaN</td>\n",
       "      <td>227.000000</td>\n",
       "    </tr>\n",
       "    <tr>\n",
       "      <th>max</th>\n",
       "      <td>NaN</td>\n",
       "      <td>NaN</td>\n",
       "      <td>NaN</td>\n",
       "      <td>NaN</td>\n",
       "      <td>NaN</td>\n",
       "      <td>250.000000</td>\n",
       "    </tr>\n",
       "  </tbody>\n",
       "</table>\n",
       "</div>"
      ],
      "text/plain": [
       "                          title     sub_title  \\\n",
       "count                    293311        282493   \n",
       "unique                    44011        116225   \n",
       "top     Constructive set theory  Introduction   \n",
       "freq                        131         36648   \n",
       "mean                        NaN           NaN   \n",
       "std                         NaN           NaN   \n",
       "min                         NaN           NaN   \n",
       "25%                         NaN           NaN   \n",
       "50%                         NaN           NaN   \n",
       "75%                         NaN           NaN   \n",
       "max                         NaN           NaN   \n",
       "\n",
       "                                                     text  \\\n",
       "count                                              293311   \n",
       "unique                                             293280   \n",
       "top     Image;Special fields:This type exists only ove...   \n",
       "freq                                                    4   \n",
       "mean                                                  NaN   \n",
       "std                                                   NaN   \n",
       "min                                                   NaN   \n",
       "25%                                                   NaN   \n",
       "50%                                                   NaN   \n",
       "75%                                                   NaN   \n",
       "max                                                   NaN   \n",
       "\n",
       "                   category   layer         length  \n",
       "count                293311  293311  293311.000000  \n",
       "unique                   30       3            NaN  \n",
       "top     Applied mathematics       3            NaN  \n",
       "freq                  76927  159698            NaN  \n",
       "mean                    NaN     NaN     146.513738  \n",
       "std                     NaN     NaN      75.971197  \n",
       "min                     NaN     NaN      20.000000  \n",
       "25%                     NaN     NaN      80.000000  \n",
       "50%                     NaN     NaN     139.000000  \n",
       "75%                     NaN     NaN     227.000000  \n",
       "max                     NaN     NaN     250.000000  "
      ]
     },
     "execution_count": 11,
     "metadata": {},
     "output_type": "execute_result"
    }
   ],
   "source": [
    "data = data[data['length'] >= 20]\n",
    "data.describe(include='all')"
   ]
  },
  {
   "cell_type": "code",
   "execution_count": 12,
   "id": "af51de17",
   "metadata": {},
   "outputs": [
    {
     "data": {
      "image/png": "[encoded data removed]",
      "text/plain": [
       "<Figure size 6000x3000 with 1 Axes>"
      ]
     },
     "metadata": {},
     "output_type": "display_data"
    }
   ],
   "source": [
    "plt.figure(figsize=(60,30))\n",
    "\n",
    "data.sort_values(by='category')['category'].hist(bins=len(data['category'].unique()), color='blue', edgecolor='black')\n",
    "plt.title('Histogram of category')\n",
    "plt.xlabel('Value')\n",
    "plt.ylabel('Frequency')\n",
    "plt.show()"
   ]
  },
  {
   "cell_type": "code",
   "execution_count": 13,
   "id": "8af20411",
   "metadata": {},
   "outputs": [
    {
     "data": {
      "image/png": "[encoded data removed]",
      "text/plain": [
       "<Figure size 1000x600 with 1 Axes>"
      ]
     },
     "metadata": {},
     "output_type": "display_data"
    }
   ],
   "source": [
    "plt.figure(figsize=(10, 6))\n",
    "plt.hist(data['length'], bins=100, color='blue', edgecolor='black')\n",
    "\n",
    "plt.title('Distribution of Text Lengths')\n",
    "plt.xlabel('Number of words')\n",
    "plt.ylabel('Frequency')\n",
    "plt.grid(axis='y')\n",
    "plt.show()"
   ]
  },
  {
   "cell_type": "code",
   "execution_count": 14,
   "id": "28044eba",
   "metadata": {},
   "outputs": [
    {
     "data": {
      "image/png": "[encoded data removed]",
      "text/plain": [
       "<Figure size 640x480 with 1 Axes>"
      ]
     },
     "metadata": {},
     "output_type": "display_data"
    }
   ],
   "source": [
    "data.sort_values(by='layer')['layer'].hist(bins=len(data['layer'].unique()), color='blue', edgecolor='black')\n",
    "plt.title('Histogram of layer')\n",
    "plt.xlabel('Value')\n",
    "plt.ylabel('Frequency')\n",
    "plt.show()"
   ]
  },
  {
   "cell_type": "code",
   "execution_count": 15,
   "id": "a17c45e0",
   "metadata": {},
   "outputs": [],
   "source": [
    "rag_df = data[data['layer'] == f'{depth}'] \n",
    "fine_tune_df = data[data['layer'] != f'{depth}']"
   ]
  },
  {
   "cell_type": "code",
   "execution_count": 16,
   "id": "0dd68ef2",
   "metadata": {},
   "outputs": [
    {
     "data": {
      "text/html": [
       "<div>\n",
       "<style scoped>\n",
       "    .dataframe tbody tr th:only-of-type {\n",
       "        vertical-align: middle;\n",
       "    }\n",
       "\n",
       "    .dataframe tbody tr th {\n",
       "        vertical-align: top;\n",
       "    }\n",
       "\n",
       "    .dataframe thead th {\n",
       "        text-align: right;\n",
       "    }\n",
       "</style>\n",
       "<table border=\"1\" class=\"dataframe\">\n",
       "  <thead>\n",
       "    <tr style=\"text-align: right;\">\n",
       "      <th></th>\n",
       "      <th>title</th>\n",
       "      <th>sub_title</th>\n",
       "      <th>text</th>\n",
       "      <th>category</th>\n",
       "      <th>layer</th>\n",
       "      <th>length</th>\n",
       "    </tr>\n",
       "  </thead>\n",
       "  <tbody>\n",
       "    <tr>\n",
       "      <th>count</th>\n",
       "      <td>133613</td>\n",
       "      <td>128605</td>\n",
       "      <td>133613</td>\n",
       "      <td>133613</td>\n",
       "      <td>133613</td>\n",
       "      <td>133613.000000</td>\n",
       "    </tr>\n",
       "    <tr>\n",
       "      <th>unique</th>\n",
       "      <td>19956</td>\n",
       "      <td>56343</td>\n",
       "      <td>133602</td>\n",
       "      <td>30</td>\n",
       "      <td>2</td>\n",
       "      <td>NaN</td>\n",
       "    </tr>\n",
       "    <tr>\n",
       "      <th>top</th>\n",
       "      <td>Constructive set theory</td>\n",
       "      <td>Introduction</td>\n",
       "      <td>Image;Special fields:This type exists only ove...</td>\n",
       "      <td>Applied mathematics</td>\n",
       "      <td>2</td>\n",
       "      <td>NaN</td>\n",
       "    </tr>\n",
       "    <tr>\n",
       "      <th>freq</th>\n",
       "      <td>131</td>\n",
       "      <td>16331</td>\n",
       "      <td>4</td>\n",
       "      <td>18820</td>\n",
       "      <td>104393</td>\n",
       "      <td>NaN</td>\n",
       "    </tr>\n",
       "    <tr>\n",
       "      <th>mean</th>\n",
       "      <td>NaN</td>\n",
       "      <td>NaN</td>\n",
       "      <td>NaN</td>\n",
       "      <td>NaN</td>\n",
       "      <td>NaN</td>\n",
       "      <td>145.066947</td>\n",
       "    </tr>\n",
       "    <tr>\n",
       "      <th>std</th>\n",
       "      <td>NaN</td>\n",
       "      <td>NaN</td>\n",
       "      <td>NaN</td>\n",
       "      <td>NaN</td>\n",
       "      <td>NaN</td>\n",
       "      <td>75.624765</td>\n",
       "    </tr>\n",
       "    <tr>\n",
       "      <th>min</th>\n",
       "      <td>NaN</td>\n",
       "      <td>NaN</td>\n",
       "      <td>NaN</td>\n",
       "      <td>NaN</td>\n",
       "      <td>NaN</td>\n",
       "      <td>20.000000</td>\n",
       "    </tr>\n",
       "    <tr>\n",
       "      <th>25%</th>\n",
       "      <td>NaN</td>\n",
       "      <td>NaN</td>\n",
       "      <td>NaN</td>\n",
       "      <td>NaN</td>\n",
       "      <td>NaN</td>\n",
       "      <td>79.000000</td>\n",
       "    </tr>\n",
       "    <tr>\n",
       "      <th>50%</th>\n",
       "      <td>NaN</td>\n",
       "      <td>NaN</td>\n",
       "      <td>NaN</td>\n",
       "      <td>NaN</td>\n",
       "      <td>NaN</td>\n",
       "      <td>137.000000</td>\n",
       "    </tr>\n",
       "    <tr>\n",
       "      <th>75%</th>\n",
       "      <td>NaN</td>\n",
       "      <td>NaN</td>\n",
       "      <td>NaN</td>\n",
       "      <td>NaN</td>\n",
       "      <td>NaN</td>\n",
       "      <td>223.000000</td>\n",
       "    </tr>\n",
       "    <tr>\n",
       "      <th>max</th>\n",
       "      <td>NaN</td>\n",
       "      <td>NaN</td>\n",
       "      <td>NaN</td>\n",
       "      <td>NaN</td>\n",
       "      <td>NaN</td>\n",
       "      <td>250.000000</td>\n",
       "    </tr>\n",
       "  </tbody>\n",
       "</table>\n",
       "</div>"
      ],
      "text/plain": [
       "                          title     sub_title  \\\n",
       "count                    133613        128605   \n",
       "unique                    19956         56343   \n",
       "top     Constructive set theory  Introduction   \n",
       "freq                        131         16331   \n",
       "mean                        NaN           NaN   \n",
       "std                         NaN           NaN   \n",
       "min                         NaN           NaN   \n",
       "25%                         NaN           NaN   \n",
       "50%                         NaN           NaN   \n",
       "75%                         NaN           NaN   \n",
       "max                         NaN           NaN   \n",
       "\n",
       "                                                     text  \\\n",
       "count                                              133613   \n",
       "unique                                             133602   \n",
       "top     Image;Special fields:This type exists only ove...   \n",
       "freq                                                    4   \n",
       "mean                                                  NaN   \n",
       "std                                                   NaN   \n",
       "min                                                   NaN   \n",
       "25%                                                   NaN   \n",
       "50%                                                   NaN   \n",
       "75%                                                   NaN   \n",
       "max                                                   NaN   \n",
       "\n",
       "                   category   layer         length  \n",
       "count                133613  133613  133613.000000  \n",
       "unique                   30       2            NaN  \n",
       "top     Applied mathematics       2            NaN  \n",
       "freq                  18820  104393            NaN  \n",
       "mean                    NaN     NaN     145.066947  \n",
       "std                     NaN     NaN      75.624765  \n",
       "min                     NaN     NaN      20.000000  \n",
       "25%                     NaN     NaN      79.000000  \n",
       "50%                     NaN     NaN     137.000000  \n",
       "75%                     NaN     NaN     223.000000  \n",
       "max                     NaN     NaN     250.000000  "
      ]
     },
     "execution_count": 16,
     "metadata": {},
     "output_type": "execute_result"
    }
   ],
   "source": [
    "fine_tune_df.describe(include='all')"
   ]
  },
  {
   "cell_type": "code",
   "execution_count": 17,
   "id": "950bc527",
   "metadata": {},
   "outputs": [
    {
     "data": {
      "text/html": [
       "<div>\n",
       "<style scoped>\n",
       "    .dataframe tbody tr th:only-of-type {\n",
       "        vertical-align: middle;\n",
       "    }\n",
       "\n",
       "    .dataframe tbody tr th {\n",
       "        vertical-align: top;\n",
       "    }\n",
       "\n",
       "    .dataframe thead th {\n",
       "        text-align: right;\n",
       "    }\n",
       "</style>\n",
       "<table border=\"1\" class=\"dataframe\">\n",
       "  <thead>\n",
       "    <tr style=\"text-align: right;\">\n",
       "      <th></th>\n",
       "      <th>title</th>\n",
       "      <th>sub_title</th>\n",
       "      <th>text</th>\n",
       "      <th>category</th>\n",
       "      <th>layer</th>\n",
       "      <th>length</th>\n",
       "    </tr>\n",
       "  </thead>\n",
       "  <tbody>\n",
       "    <tr>\n",
       "      <th>count</th>\n",
       "      <td>159698</td>\n",
       "      <td>153888</td>\n",
       "      <td>159698</td>\n",
       "      <td>159698</td>\n",
       "      <td>159698</td>\n",
       "      <td>159698.000000</td>\n",
       "    </tr>\n",
       "    <tr>\n",
       "      <th>unique</th>\n",
       "      <td>24055</td>\n",
       "      <td>65629</td>\n",
       "      <td>159680</td>\n",
       "      <td>29</td>\n",
       "      <td>1</td>\n",
       "      <td>NaN</td>\n",
       "    </tr>\n",
       "    <tr>\n",
       "      <th>top</th>\n",
       "      <td>Royal Commission on Animal Magnetism</td>\n",
       "      <td>Introduction</td>\n",
       "      <td>The image linked here is claimed to be used un...</td>\n",
       "      <td>Applied mathematics</td>\n",
       "      <td>3</td>\n",
       "      <td>NaN</td>\n",
       "    </tr>\n",
       "    <tr>\n",
       "      <th>freq</th>\n",
       "      <td>118</td>\n",
       "      <td>20317</td>\n",
       "      <td>3</td>\n",
       "      <td>58107</td>\n",
       "      <td>159698</td>\n",
       "      <td>NaN</td>\n",
       "    </tr>\n",
       "    <tr>\n",
       "      <th>mean</th>\n",
       "      <td>NaN</td>\n",
       "      <td>NaN</td>\n",
       "      <td>NaN</td>\n",
       "      <td>NaN</td>\n",
       "      <td>NaN</td>\n",
       "      <td>147.724211</td>\n",
       "    </tr>\n",
       "    <tr>\n",
       "      <th>std</th>\n",
       "      <td>NaN</td>\n",
       "      <td>NaN</td>\n",
       "      <td>NaN</td>\n",
       "      <td>NaN</td>\n",
       "      <td>NaN</td>\n",
       "      <td>76.238978</td>\n",
       "    </tr>\n",
       "    <tr>\n",
       "      <th>min</th>\n",
       "      <td>NaN</td>\n",
       "      <td>NaN</td>\n",
       "      <td>NaN</td>\n",
       "      <td>NaN</td>\n",
       "      <td>NaN</td>\n",
       "      <td>20.000000</td>\n",
       "    </tr>\n",
       "    <tr>\n",
       "      <th>25%</th>\n",
       "      <td>NaN</td>\n",
       "      <td>NaN</td>\n",
       "      <td>NaN</td>\n",
       "      <td>NaN</td>\n",
       "      <td>NaN</td>\n",
       "      <td>81.000000</td>\n",
       "    </tr>\n",
       "    <tr>\n",
       "      <th>50%</th>\n",
       "      <td>NaN</td>\n",
       "      <td>NaN</td>\n",
       "      <td>NaN</td>\n",
       "      <td>NaN</td>\n",
       "      <td>NaN</td>\n",
       "      <td>141.000000</td>\n",
       "    </tr>\n",
       "    <tr>\n",
       "      <th>75%</th>\n",
       "      <td>NaN</td>\n",
       "      <td>NaN</td>\n",
       "      <td>NaN</td>\n",
       "      <td>NaN</td>\n",
       "      <td>NaN</td>\n",
       "      <td>230.000000</td>\n",
       "    </tr>\n",
       "    <tr>\n",
       "      <th>max</th>\n",
       "      <td>NaN</td>\n",
       "      <td>NaN</td>\n",
       "      <td>NaN</td>\n",
       "      <td>NaN</td>\n",
       "      <td>NaN</td>\n",
       "      <td>250.000000</td>\n",
       "    </tr>\n",
       "  </tbody>\n",
       "</table>\n",
       "</div>"
      ],
      "text/plain": [
       "                                       title     sub_title  \\\n",
       "count                                 159698        153888   \n",
       "unique                                 24055         65629   \n",
       "top     Royal Commission on Animal Magnetism  Introduction   \n",
       "freq                                     118         20317   \n",
       "mean                                     NaN           NaN   \n",
       "std                                      NaN           NaN   \n",
       "min                                      NaN           NaN   \n",
       "25%                                      NaN           NaN   \n",
       "50%                                      NaN           NaN   \n",
       "75%                                      NaN           NaN   \n",
       "max                                      NaN           NaN   \n",
       "\n",
       "                                                     text  \\\n",
       "count                                              159698   \n",
       "unique                                             159680   \n",
       "top     The image linked here is claimed to be used un...   \n",
       "freq                                                    3   \n",
       "mean                                                  NaN   \n",
       "std                                                   NaN   \n",
       "min                                                   NaN   \n",
       "25%                                                   NaN   \n",
       "50%                                                   NaN   \n",
       "75%                                                   NaN   \n",
       "max                                                   NaN   \n",
       "\n",
       "                   category   layer         length  \n",
       "count                159698  159698  159698.000000  \n",
       "unique                   29       1            NaN  \n",
       "top     Applied mathematics       3            NaN  \n",
       "freq                  58107  159698            NaN  \n",
       "mean                    NaN     NaN     147.724211  \n",
       "std                     NaN     NaN      76.238978  \n",
       "min                     NaN     NaN      20.000000  \n",
       "25%                     NaN     NaN      81.000000  \n",
       "50%                     NaN     NaN     141.000000  \n",
       "75%                     NaN     NaN     230.000000  \n",
       "max                     NaN     NaN     250.000000  "
      ]
     },
     "execution_count": 17,
     "metadata": {},
     "output_type": "execute_result"
    }
   ],
   "source": [
    "rag_df.describe(include='all')"
   ]
  },
  {
   "cell_type": "code",
   "execution_count": 18,
   "id": "7eb55420",
   "metadata": {},
   "outputs": [
    {
     "name": "stderr",
     "output_type": "stream",
     "text": [
      "/tmp/ipykernel_27625/3379616835.py:3: SettingWithCopyWarning: \n",
      "A value is trying to be set on a copy of a slice from a DataFrame.\n",
      "Try using .loc[row_indexer,col_indexer] = value instead\n",
      "\n",
      "See the caveats in the documentation: https://pandas.pydata.org/pandas-docs/stable/user_guide/indexing.html#returning-a-view-versus-a-copy\n",
      "  fine_tune_df['stratify'] = fine_tune_df['category'].astype(str) + fine_tune_df['layer'].astype(str)\n"
     ]
    }
   ],
   "source": [
    "from sklearn.model_selection import train_test_split\n",
    "\n",
    "fine_tune_df['stratify'] = fine_tune_df['category'].astype(str) + fine_tune_df['layer'].astype(str)\n",
    "\n",
    "train_df, _ = train_test_split(fine_tune_df, test_size=0.4, stratify=fine_tune_df[['stratify']], random_state=42)\n",
    "valid_df, test_df = train_test_split(_, test_size=0.5, stratify=_[['stratify']], random_state=42)\n"
   ]
  },
  {
   "cell_type": "code",
   "execution_count": 19,
   "id": "8ccecce8",
   "metadata": {},
   "outputs": [
    {
     "name": "stderr",
     "output_type": "stream",
     "text": [
      "/tmp/ipykernel_27625/2808069441.py:2: SettingWithCopyWarning: \n",
      "A value is trying to be set on a copy of a slice from a DataFrame\n",
      "\n",
      "See the caveats in the documentation: https://pandas.pydata.org/pandas-docs/stable/user_guide/indexing.html#returning-a-view-versus-a-copy\n",
      "  df.drop(columns=['length', 'layer'], inplace=True)\n"
     ]
    }
   ],
   "source": [
    "for df in [rag_df, train_df, valid_df, test_df]:\n",
    "    df.drop(columns=['length', 'layer'], inplace=True)\n",
    "\n",
    "for df in [train_df, valid_df, test_df]:\n",
    "    df.drop(columns=['stratify'], inplace=True)"
   ]
  },
  {
   "cell_type": "code",
   "execution_count": 22,
   "id": "83af03b1",
   "metadata": {},
   "outputs": [],
   "source": [
    "from datasets import Dataset, DatasetDict\n",
    "\n",
    "train_ds = Dataset.from_pandas(train_df, preserve_index=False)\n",
    "valid_ds = Dataset.from_pandas(valid_df, preserve_index=False)\n",
    "test_ds = Dataset.from_pandas(test_df, preserve_index=False)\n",
    "rag_ds = Dataset.from_pandas(rag_df, preserve_index=False)\n",
    "\n",
    "ds = DatasetDict({\n",
    "    'train': train_ds,\n",
    "    'valid': valid_ds,\n",
    "    'test': test_ds,\n",
    "    'rag': rag_ds\n",
    "})"
   ]
  },
  {
   "cell_type": "code",
   "execution_count": 23,
   "id": "038e8c8d",
   "metadata": {},
   "outputs": [
    {
     "data": {
      "text/plain": [
       "DatasetDict({\n",
       "    train: Dataset({\n",
       "        features: ['title', 'sub_title', 'text', 'category'],\n",
       "        num_rows: 80167\n",
       "    })\n",
       "    valid: Dataset({\n",
       "        features: ['title', 'sub_title', 'text', 'category'],\n",
       "        num_rows: 26723\n",
       "    })\n",
       "    test: Dataset({\n",
       "        features: ['title', 'sub_title', 'text', 'category'],\n",
       "        num_rows: 26723\n",
       "    })\n",
       "    rag: Dataset({\n",
       "        features: ['title', 'sub_title', 'text', 'category'],\n",
       "        num_rows: 159698\n",
       "    })\n",
       "})"
      ]
     },
     "execution_count": 23,
     "metadata": {},
     "output_type": "execute_result"
    }
   ],
   "source": [
    "ds"
   ]
  },
  {
   "cell_type": "code",
   "execution_count": 24,
   "id": "63d86a06",
   "metadata": {},
   "outputs": [
    {
     "data": {
      "application/vnd.jupyter.widget-view+json": {
       "model_id": "d5b55cd5bda843a7963ab83f846ba48e",
       "version_major": 2,
       "version_minor": 0
      },
      "text/plain": [
       "VBox(children=(HTML(value='<center> <img\\nsrc=https://huggingface.co/front/assets/huggingface_logo-noborder.sv…"
      ]
     },
     "metadata": {},
     "output_type": "display_data"
    }
   ],
   "source": [
    "from huggingface_hub import login\n",
    "\n",
    "login()"
   ]
  },
  {
   "cell_type": "code",
   "execution_count": 25,
   "id": "0b09e193",
   "metadata": {},
   "outputs": [
    {
     "data": {
      "application/vnd.jupyter.widget-view+json": {
       "model_id": "8a33b28a3d224b9caad6ef1815d5a0c7",
       "version_major": 2,
       "version_minor": 0
      },
      "text/plain": [
       "Uploading the dataset shards:   0%|          | 0/1 [00:00<?, ? shards/s]"
      ]
     },
     "metadata": {},
     "output_type": "display_data"
    },
    {
     "data": {
      "application/vnd.jupyter.widget-view+json": {
       "model_id": "3c3a84806303464bbec1fe7afa129232",
       "version_major": 2,
       "version_minor": 0
      },
      "text/plain": [
       "Creating parquet from Arrow format:   0%|          | 0/81 [00:00<?, ?ba/s]"
      ]
     },
     "metadata": {},
     "output_type": "display_data"
    },
    {
     "data": {
      "application/vnd.jupyter.widget-view+json": {
       "model_id": "d44d72e0fcd143ce9ba0ea5fcdf6f341",
       "version_major": 2,
       "version_minor": 0
      },
      "text/plain": [
       "Processing Files (0 / 0)                : |          |  0.00B /  0.00B            "
      ]
     },
     "metadata": {},
     "output_type": "display_data"
    },
    {
     "data": {
      "application/vnd.jupyter.widget-view+json": {
       "model_id": "8673bfffc5e34bccaa4c594f2eb1cbbd",
       "version_major": 2,
       "version_minor": 0
      },
      "text/plain": [
       "New Data Upload                         : |          |  0.00B /  0.00B            "
      ]
     },
     "metadata": {},
     "output_type": "display_data"
    },
    {
     "data": {
      "application/vnd.jupyter.widget-view+json": {
       "model_id": "d69bb3bf28c04d49b5a3597dae82b7e1",
       "version_major": 2,
       "version_minor": 0
      },
      "text/plain": [
       "                                        :   1%|          |  525kB / 52.7MB            "
      ]
     },
     "metadata": {},
     "output_type": "display_data"
    },
    {
     "data": {
      "application/vnd.jupyter.widget-view+json": {
       "model_id": "a95503b1de7442c991db70d70b97141e",
       "version_major": 2,
       "version_minor": 0
      },
      "text/plain": [
       "Uploading the dataset shards:   0%|          | 0/1 [00:00<?, ? shards/s]"
      ]
     },
     "metadata": {},
     "output_type": "display_data"
    },
    {
     "data": {
      "application/vnd.jupyter.widget-view+json": {
       "model_id": "73cd5ed3099d46aba00f7be4241fcde5",
       "version_major": 2,
       "version_minor": 0
      },
      "text/plain": [
       "Creating parquet from Arrow format:   0%|          | 0/27 [00:00<?, ?ba/s]"
      ]
     },
     "metadata": {},
     "output_type": "display_data"
    },
    {
     "data": {
      "application/vnd.jupyter.widget-view+json": {
       "model_id": "8a216227452d4359b21ba7058cc7b6b0",
       "version_major": 2,
       "version_minor": 0
      },
      "text/plain": [
       "Processing Files (0 / 0)                : |          |  0.00B /  0.00B            "
      ]
     },
     "metadata": {},
     "output_type": "display_data"
    },
    {
     "data": {
      "application/vnd.jupyter.widget-view+json": {
       "model_id": "d95e0aafb7e5469aacb7783dc024792a",
       "version_major": 2,
       "version_minor": 0
      },
      "text/plain": [
       "New Data Upload                         : |          |  0.00B /  0.00B            "
      ]
     },
     "metadata": {},
     "output_type": "display_data"
    },
    {
     "data": {
      "application/vnd.jupyter.widget-view+json": {
       "model_id": "347ee616740048e4b67f021e9f4e7415",
       "version_major": 2,
       "version_minor": 0
      },
      "text/plain": [
       "                                        :   3%|2         |  525kB / 17.5MB            "
      ]
     },
     "metadata": {},
     "output_type": "display_data"
    },
    {
     "data": {
      "application/vnd.jupyter.widget-view+json": {
       "model_id": "96a398aff5594cd998d0c049eaa531d5",
       "version_major": 2,
       "version_minor": 0
      },
      "text/plain": [
       "Uploading the dataset shards:   0%|          | 0/1 [00:00<?, ? shards/s]"
      ]
     },
     "metadata": {},
     "output_type": "display_data"
    },
    {
     "data": {
      "application/vnd.jupyter.widget-view+json": {
       "model_id": "269e8abb5d4245f89480f291f7c3d01d",
       "version_major": 2,
       "version_minor": 0
      },
      "text/plain": [
       "Creating parquet from Arrow format:   0%|          | 0/27 [00:00<?, ?ba/s]"
      ]
     },
     "metadata": {},
     "output_type": "display_data"
    },
    {
     "data": {
      "application/vnd.jupyter.widget-view+json": {
       "model_id": "b886545c46e44cb38770dd54af6dadd4",
       "version_major": 2,
       "version_minor": 0
      },
      "text/plain": [
       "Processing Files (0 / 0)                : |          |  0.00B /  0.00B            "
      ]
     },
     "metadata": {},
     "output_type": "display_data"
    },
    {
     "data": {
      "application/vnd.jupyter.widget-view+json": {
       "model_id": "1fb8cb14ea0f4090a2ab2128d13075ea",
       "version_major": 2,
       "version_minor": 0
      },
      "text/plain": [
       "New Data Upload                         : |          |  0.00B /  0.00B            "
      ]
     },
     "metadata": {},
     "output_type": "display_data"
    },
    {
     "data": {
      "application/vnd.jupyter.widget-view+json": {
       "model_id": "9410ac24cddf4573a127532067ddd6bd",
       "version_major": 2,
       "version_minor": 0
      },
      "text/plain": [
       "                                        :   3%|3         |  525kB / 17.5MB            "
      ]
     },
     "metadata": {},
     "output_type": "display_data"
    },
    {
     "data": {
      "application/vnd.jupyter.widget-view+json": {
       "model_id": "547816269b7a4d2a963fceb8cd457c02",
       "version_major": 2,
       "version_minor": 0
      },
      "text/plain": [
       "Uploading the dataset shards:   0%|          | 0/1 [00:00<?, ? shards/s]"
      ]
     },
     "metadata": {},
     "output_type": "display_data"
    },
    {
     "data": {
      "application/vnd.jupyter.widget-view+json": {
       "model_id": "b4b8c07e15524f9e88d676d8e6ebf196",
       "version_major": 2,
       "version_minor": 0
      },
      "text/plain": [
       "Creating parquet from Arrow format:   0%|          | 0/160 [00:00<?, ?ba/s]"
      ]
     },
     "metadata": {},
     "output_type": "display_data"
    },
    {
     "data": {
      "application/vnd.jupyter.widget-view+json": {
       "model_id": "2b3dbfff73924e2ab3be01d239cf2732",
       "version_major": 2,
       "version_minor": 0
      },
      "text/plain": [
       "Processing Files (0 / 0)                : |          |  0.00B /  0.00B            "
      ]
     },
     "metadata": {},
     "output_type": "display_data"
    },
    {
     "data": {
      "application/vnd.jupyter.widget-view+json": {
       "model_id": "01152d46313b4da2a01f085dc0fe5b13",
       "version_major": 2,
       "version_minor": 0
      },
      "text/plain": [
       "New Data Upload                         : |          |  0.00B /  0.00B            "
      ]
     },
     "metadata": {},
     "output_type": "display_data"
    },
    {
     "data": {
      "application/vnd.jupyter.widget-view+json": {
       "model_id": "47b3a6d709ca4546a34b71c2f31904f1",
       "version_major": 2,
       "version_minor": 0
      },
      "text/plain": [
       "                                        :   1%|1         | 1.05MB / 84.5MB            "
      ]
     },
     "metadata": {},
     "output_type": "display_data"
    },
    {
     "data": {
      "text/plain": [
       "CommitInfo(commit_url='https://huggingface.co/datasets/noor-zalouk/wiki-math-articles/commit/0f864515f39466cbddddb83145d89bfa147634aa', commit_message='Upload dataset', commit_description='', oid='0f864515f39466cbddddb83145d89bfa147634aa', pr_url=None, repo_url=RepoUrl('https://huggingface.co/datasets/noor-zalouk/wiki-math-articles', endpoint='https://huggingface.co', repo_type='dataset', repo_id='noor-zalouk/wiki-math-articles'), pr_revision=None, pr_num=None)"
      ]
     },
     "execution_count": 25,
     "metadata": {},
     "output_type": "execute_result"
    }
   ],
   "source": [
    "repo_id = \"noor-zalouk/wiki-math-articles\"\n",
    "ds.push_to_hub(repo_id)"
   ]
  }
 ],
 "metadata": {
  "kernelspec": {
   "display_name": "base",
   "language": "python",
   "name": "python3"
  },
  "language_info": {
   "codemirror_mode": {
    "name": "ipython",
    "version": 3
   },
   "file_extension": ".py",
   "mimetype": "text/x-python",
   "name": "python",
   "nbconvert_exporter": "python",
   "pygments_lexer": "ipython3",
   "version": "3.13.5"
  }
 },
 "nbformat": 4,
 "nbformat_minor": 5
}
