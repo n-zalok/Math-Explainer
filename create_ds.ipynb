{
 "cells": [
  {
   "cell_type": "code",
   "execution_count": 1,
   "id": "3a577bd7",
   "metadata": {},
   "outputs": [],
   "source": [
    "import json\n",
    "import os\n",
    "\n",
    "depth = 2\n",
    "directory_path = f'./airflow/cleaned_data_{depth}'\n",
    "data = []\n",
    "\n",
    "for file in os.scandir(directory_path):\n",
    "    try:\n",
    "        with open(file.path, 'r') as f: \n",
    "            data.extend(json.load(f))\n",
    "\n",
    "    except Exception as e:\n",
    "        print(f\"Error reading {file.name}: {e}\")"
   ]
  },
  {
   "cell_type": "code",
   "execution_count": 2,
   "id": "3e3178ed",
   "metadata": {},
   "outputs": [
    {
     "data": {
      "text/plain": [
       "164919"
      ]
     },
     "execution_count": 2,
     "metadata": {},
     "output_type": "execute_result"
    }
   ],
   "source": [
    "og_len = len(data)\n",
    "og_len"
   ]
  },
  {
   "cell_type": "code",
   "execution_count": 3,
   "id": "ff8b94e8",
   "metadata": {},
   "outputs": [
    {
     "data": {
      "text/html": [
       "<div>\n",
       "<style scoped>\n",
       "    .dataframe tbody tr th:only-of-type {\n",
       "        vertical-align: middle;\n",
       "    }\n",
       "\n",
       "    .dataframe tbody tr th {\n",
       "        vertical-align: top;\n",
       "    }\n",
       "\n",
       "    .dataframe thead th {\n",
       "        text-align: right;\n",
       "    }\n",
       "</style>\n",
       "<table border=\"1\" class=\"dataframe\">\n",
       "  <thead>\n",
       "    <tr style=\"text-align: right;\">\n",
       "      <th></th>\n",
       "      <th>title</th>\n",
       "      <th>sub_title</th>\n",
       "      <th>text</th>\n",
       "      <th>category</th>\n",
       "      <th>layer</th>\n",
       "    </tr>\n",
       "  </thead>\n",
       "  <tbody>\n",
       "    <tr>\n",
       "      <th>164918</th>\n",
       "      <td>Young subgroup</td>\n",
       "      <td>None</td>\n",
       "      <td>Inmathematics, theYoung subgroupsof thesymmetr...</td>\n",
       "      <td>Combinatorics</td>\n",
       "      <td>1</td>\n",
       "    </tr>\n",
       "    <tr>\n",
       "      <th>48064</th>\n",
       "      <td>P-adic number</td>\n",
       "      <td>Example</td>\n",
       "      <td>Let us compute the 5-adic expansion of\\tfrac 1...</td>\n",
       "      <td>Number theory</td>\n",
       "      <td>1</td>\n",
       "    </tr>\n",
       "    <tr>\n",
       "      <th>48065</th>\n",
       "      <td>P-adic number</td>\n",
       "      <td>''p''-adic integers</td>\n",
       "      <td>The-adic integersare the-adic numbers with a n...</td>\n",
       "      <td>Number theory</td>\n",
       "      <td>1</td>\n",
       "    </tr>\n",
       "    <tr>\n",
       "      <th>48066</th>\n",
       "      <td>P-adic number</td>\n",
       "      <td>Topological properties</td>\n",
       "      <td>The-adic valuation allows defining anabsolute ...</td>\n",
       "      <td>Number theory</td>\n",
       "      <td>1</td>\n",
       "    </tr>\n",
       "    <tr>\n",
       "      <th>48067</th>\n",
       "      <td>P-adic number</td>\n",
       "      <td>Modular properties</td>\n",
       "      <td>Thequotient ring\\Z_p/p^n\\Z_pmay be identified ...</td>\n",
       "      <td>Number theory</td>\n",
       "      <td>1</td>\n",
       "    </tr>\n",
       "    <tr>\n",
       "      <th>...</th>\n",
       "      <td>...</td>\n",
       "      <td>...</td>\n",
       "      <td>...</td>\n",
       "      <td>...</td>\n",
       "      <td>...</td>\n",
       "    </tr>\n",
       "    <tr>\n",
       "      <th>60012</th>\n",
       "      <td>Filter bank</td>\n",
       "      <td>Filter-bank design in the frequency domain</td>\n",
       "      <td>When perfect reconstruction is not needed, the...</td>\n",
       "      <td>Numerical analysis</td>\n",
       "      <td>2</td>\n",
       "    </tr>\n",
       "    <tr>\n",
       "      <th>60013</th>\n",
       "      <td>Filter bank</td>\n",
       "      <td>Direct frequency-domain optimization</td>\n",
       "      <td>Many of the existing methods for designing 2-c...</td>\n",
       "      <td>Numerical analysis</td>\n",
       "      <td>2</td>\n",
       "    </tr>\n",
       "    <tr>\n",
       "      <th>60014</th>\n",
       "      <td>Filter bank</td>\n",
       "      <td>Directional filter banks</td>\n",
       "      <td>Bamberger and Smith proposed a 2D directional ...</td>\n",
       "      <td>Numerical analysis</td>\n",
       "      <td>2</td>\n",
       "    </tr>\n",
       "    <tr>\n",
       "      <th>60016</th>\n",
       "      <td>Fast wavelet transform</td>\n",
       "      <td>None</td>\n",
       "      <td>Thefast wavelet transformis amathematicalalgor...</td>\n",
       "      <td>Numerical analysis</td>\n",
       "      <td>2</td>\n",
       "    </tr>\n",
       "    <tr>\n",
       "      <th>82459</th>\n",
       "      <td>Ordinal notation</td>\n",
       "      <td>Feferman's θ functions</td>\n",
       "      <td>Feferman introduced theta functions, described...</td>\n",
       "      <td>Mathematical logic</td>\n",
       "      <td>2</td>\n",
       "    </tr>\n",
       "  </tbody>\n",
       "</table>\n",
       "<p>164919 rows × 5 columns</p>\n",
       "</div>"
      ],
      "text/plain": [
       "                         title                                   sub_title  \\\n",
       "164918          Young subgroup                                        None   \n",
       "48064            P-adic number                                     Example   \n",
       "48065            P-adic number                         ''p''-adic integers   \n",
       "48066            P-adic number                      Topological properties   \n",
       "48067            P-adic number                          Modular properties   \n",
       "...                        ...                                         ...   \n",
       "60012              Filter bank  Filter-bank design in the frequency domain   \n",
       "60013              Filter bank        Direct frequency-domain optimization   \n",
       "60014              Filter bank                    Directional filter banks   \n",
       "60016   Fast wavelet transform                                        None   \n",
       "82459         Ordinal notation                      Feferman's θ functions   \n",
       "\n",
       "                                                     text            category  \\\n",
       "164918  Inmathematics, theYoung subgroupsof thesymmetr...       Combinatorics   \n",
       "48064   Let us compute the 5-adic expansion of\\tfrac 1...       Number theory   \n",
       "48065   The-adic integersare the-adic numbers with a n...       Number theory   \n",
       "48066   The-adic valuation allows defining anabsolute ...       Number theory   \n",
       "48067   Thequotient ring\\Z_p/p^n\\Z_pmay be identified ...       Number theory   \n",
       "...                                                   ...                 ...   \n",
       "60012   When perfect reconstruction is not needed, the...  Numerical analysis   \n",
       "60013   Many of the existing methods for designing 2-c...  Numerical analysis   \n",
       "60014   Bamberger and Smith proposed a 2D directional ...  Numerical analysis   \n",
       "60016   Thefast wavelet transformis amathematicalalgor...  Numerical analysis   \n",
       "82459   Feferman introduced theta functions, described...  Mathematical logic   \n",
       "\n",
       "       layer  \n",
       "164918     1  \n",
       "48064      1  \n",
       "48065      1  \n",
       "48066      1  \n",
       "48067      1  \n",
       "...      ...  \n",
       "60012      2  \n",
       "60013      2  \n",
       "60014      2  \n",
       "60016      2  \n",
       "82459      2  \n",
       "\n",
       "[164919 rows x 5 columns]"
      ]
     },
     "execution_count": 3,
     "metadata": {},
     "output_type": "execute_result"
    }
   ],
   "source": [
    "import pandas as pd\n",
    "\n",
    "data = pd.DataFrame(data)\n",
    "data = data.sort_values(by='layer', ascending=True)\n",
    "data\n"
   ]
  },
  {
   "cell_type": "code",
   "execution_count": 4,
   "id": "abfe43a1",
   "metadata": {},
   "outputs": [
    {
     "name": "stdout",
     "output_type": "stream",
     "text": [
      "86.29% of df remained\n"
     ]
    }
   ],
   "source": [
    "data = data.drop_duplicates(subset=['category', 'text'])\n",
    "print(f'{len(data)/og_len:.2%} of df remained')"
   ]
  },
  {
   "cell_type": "code",
   "execution_count": 5,
   "id": "f5675ca1",
   "metadata": {},
   "outputs": [
    {
     "data": {
      "text/html": [
       "<div>\n",
       "<style scoped>\n",
       "    .dataframe tbody tr th:only-of-type {\n",
       "        vertical-align: middle;\n",
       "    }\n",
       "\n",
       "    .dataframe tbody tr th {\n",
       "        vertical-align: top;\n",
       "    }\n",
       "\n",
       "    .dataframe thead th {\n",
       "        text-align: right;\n",
       "    }\n",
       "</style>\n",
       "<table border=\"1\" class=\"dataframe\">\n",
       "  <thead>\n",
       "    <tr style=\"text-align: right;\">\n",
       "      <th>category</th>\n",
       "      <th>Applied mathematics</th>\n",
       "      <th>Mathematical logic</th>\n",
       "      <th>Dynamical systems</th>\n",
       "      <th>Numerical analysis</th>\n",
       "      <th>Combinatorics</th>\n",
       "      <th>Linear algebra</th>\n",
       "      <th>Topology</th>\n",
       "      <th>Analysis</th>\n",
       "      <th>Number theory</th>\n",
       "      <th>Algebra</th>\n",
       "      <th>...</th>\n",
       "      <th>Set theory</th>\n",
       "      <th>Order theory</th>\n",
       "      <th>Trigonometry</th>\n",
       "      <th>Chaos theory</th>\n",
       "      <th>Fractals</th>\n",
       "      <th>Statistics</th>\n",
       "      <th>Model theory</th>\n",
       "      <th>Linear programming</th>\n",
       "      <th>Multi-dimensional geometry</th>\n",
       "      <th>Probability and statistics</th>\n",
       "    </tr>\n",
       "  </thead>\n",
       "  <tbody>\n",
       "    <tr>\n",
       "      <th>count</th>\n",
       "      <td>15612</td>\n",
       "      <td>8993</td>\n",
       "      <td>8605</td>\n",
       "      <td>8447</td>\n",
       "      <td>8376</td>\n",
       "      <td>7477</td>\n",
       "      <td>7394</td>\n",
       "      <td>7244</td>\n",
       "      <td>7188</td>\n",
       "      <td>6764</td>\n",
       "      <td>...</td>\n",
       "      <td>2435</td>\n",
       "      <td>1933</td>\n",
       "      <td>1564</td>\n",
       "      <td>1449</td>\n",
       "      <td>1329</td>\n",
       "      <td>1067</td>\n",
       "      <td>914</td>\n",
       "      <td>902</td>\n",
       "      <td>898</td>\n",
       "      <td>117</td>\n",
       "    </tr>\n",
       "  </tbody>\n",
       "</table>\n",
       "<p>1 rows × 30 columns</p>\n",
       "</div>"
      ],
      "text/plain": [
       "category  Applied mathematics  Mathematical logic  Dynamical systems  \\\n",
       "count                   15612                8993               8605   \n",
       "\n",
       "category  Numerical analysis  Combinatorics  Linear algebra  Topology  \\\n",
       "count                   8447           8376            7477      7394   \n",
       "\n",
       "category  Analysis  Number theory  Algebra  ...  Set theory  Order theory  \\\n",
       "count         7244           7188     6764  ...        2435          1933   \n",
       "\n",
       "category  Trigonometry  Chaos theory  Fractals  Statistics  Model theory  \\\n",
       "count             1564          1449      1329        1067           914   \n",
       "\n",
       "category  Linear programming  Multi-dimensional geometry  \\\n",
       "count                    902                         898   \n",
       "\n",
       "category  Probability and statistics  \n",
       "count                            117  \n",
       "\n",
       "[1 rows x 30 columns]"
      ]
     },
     "execution_count": 5,
     "metadata": {},
     "output_type": "execute_result"
    }
   ],
   "source": [
    "df_counts = data[\"category\"].value_counts()\n",
    "df_counts.to_frame().T"
   ]
  },
  {
   "cell_type": "code",
   "execution_count": 6,
   "id": "1ace468d",
   "metadata": {},
   "outputs": [
    {
     "name": "stderr",
     "output_type": "stream",
     "text": [
      "/tmp/ipykernel_12356/1238885651.py:1: SettingWithCopyWarning: \n",
      "A value is trying to be set on a copy of a slice from a DataFrame\n",
      "\n",
      "See the caveats in the documentation: https://pandas.pydata.org/pandas-docs/stable/user_guide/indexing.html#returning-a-view-versus-a-copy\n",
      "  data.loc[data['category'] == 'Probability and statistics', 'category'] = 'Statistics'\n"
     ]
    },
    {
     "data": {
      "text/html": [
       "<div>\n",
       "<style scoped>\n",
       "    .dataframe tbody tr th:only-of-type {\n",
       "        vertical-align: middle;\n",
       "    }\n",
       "\n",
       "    .dataframe tbody tr th {\n",
       "        vertical-align: top;\n",
       "    }\n",
       "\n",
       "    .dataframe thead th {\n",
       "        text-align: right;\n",
       "    }\n",
       "</style>\n",
       "<table border=\"1\" class=\"dataframe\">\n",
       "  <thead>\n",
       "    <tr style=\"text-align: right;\">\n",
       "      <th>category</th>\n",
       "      <th>Applied mathematics</th>\n",
       "      <th>Mathematical logic</th>\n",
       "      <th>Dynamical systems</th>\n",
       "      <th>Numerical analysis</th>\n",
       "      <th>Combinatorics</th>\n",
       "      <th>Linear algebra</th>\n",
       "      <th>Topology</th>\n",
       "      <th>Analysis</th>\n",
       "      <th>Number theory</th>\n",
       "      <th>Algebra</th>\n",
       "      <th>...</th>\n",
       "      <th>Calculus</th>\n",
       "      <th>Set theory</th>\n",
       "      <th>Order theory</th>\n",
       "      <th>Trigonometry</th>\n",
       "      <th>Chaos theory</th>\n",
       "      <th>Fractals</th>\n",
       "      <th>Statistics</th>\n",
       "      <th>Model theory</th>\n",
       "      <th>Linear programming</th>\n",
       "      <th>Multi-dimensional geometry</th>\n",
       "    </tr>\n",
       "  </thead>\n",
       "  <tbody>\n",
       "    <tr>\n",
       "      <th>count</th>\n",
       "      <td>15612</td>\n",
       "      <td>8993</td>\n",
       "      <td>8605</td>\n",
       "      <td>8447</td>\n",
       "      <td>8376</td>\n",
       "      <td>7477</td>\n",
       "      <td>7394</td>\n",
       "      <td>7244</td>\n",
       "      <td>7188</td>\n",
       "      <td>6764</td>\n",
       "      <td>...</td>\n",
       "      <td>3254</td>\n",
       "      <td>2435</td>\n",
       "      <td>1933</td>\n",
       "      <td>1564</td>\n",
       "      <td>1449</td>\n",
       "      <td>1329</td>\n",
       "      <td>1184</td>\n",
       "      <td>914</td>\n",
       "      <td>902</td>\n",
       "      <td>898</td>\n",
       "    </tr>\n",
       "  </tbody>\n",
       "</table>\n",
       "<p>1 rows × 29 columns</p>\n",
       "</div>"
      ],
      "text/plain": [
       "category  Applied mathematics  Mathematical logic  Dynamical systems  \\\n",
       "count                   15612                8993               8605   \n",
       "\n",
       "category  Numerical analysis  Combinatorics  Linear algebra  Topology  \\\n",
       "count                   8447           8376            7477      7394   \n",
       "\n",
       "category  Analysis  Number theory  Algebra  ...  Calculus  Set theory  \\\n",
       "count         7244           7188     6764  ...      3254        2435   \n",
       "\n",
       "category  Order theory  Trigonometry  Chaos theory  Fractals  Statistics  \\\n",
       "count             1933          1564          1449      1329        1184   \n",
       "\n",
       "category  Model theory  Linear programming  Multi-dimensional geometry  \n",
       "count              914                 902                         898  \n",
       "\n",
       "[1 rows x 29 columns]"
      ]
     },
     "execution_count": 6,
     "metadata": {},
     "output_type": "execute_result"
    }
   ],
   "source": [
    "data.loc[data['category'] == 'Probability and statistics', 'category'] = 'Statistics'\n",
    "df_counts = data[\"category\"].value_counts()\n",
    "df_counts.to_frame().T"
   ]
  },
  {
   "cell_type": "code",
   "execution_count": 7,
   "id": "ce97c0e0",
   "metadata": {},
   "outputs": [
    {
     "data": {
      "text/plain": [
       "['Combinatorics',\n",
       " 'Number theory',\n",
       " 'Geometry',\n",
       " 'Dynamical systems',\n",
       " 'Linear algebra',\n",
       " 'Graph theory',\n",
       " 'Model theory',\n",
       " 'Analysis',\n",
       " 'Group theory',\n",
       " 'Applied mathematics',\n",
       " 'Statistics',\n",
       " 'Trigonometry',\n",
       " 'Calculus',\n",
       " 'Category theory',\n",
       " 'Algebraic geometry',\n",
       " 'Complex analysis',\n",
       " 'Algebra',\n",
       " 'Mathematical logic',\n",
       " 'Fractals',\n",
       " 'Numerical analysis',\n",
       " 'Set theory',\n",
       " 'Multi-dimensional geometry',\n",
       " 'Game theory',\n",
       " 'Algebraic topology',\n",
       " 'Arithmetic',\n",
       " 'Linear programming',\n",
       " 'Chaos theory',\n",
       " 'Order theory',\n",
       " 'Topology']"
      ]
     },
     "execution_count": 7,
     "metadata": {},
     "output_type": "execute_result"
    }
   ],
   "source": [
    "all_labels = list(data['category'].unique())\n",
    "all_labels"
   ]
  },
  {
   "cell_type": "code",
   "execution_count": 8,
   "id": "e240bd4c",
   "metadata": {},
   "outputs": [
    {
     "data": {
      "text/html": [
       "<div>\n",
       "<style scoped>\n",
       "    .dataframe tbody tr th:only-of-type {\n",
       "        vertical-align: middle;\n",
       "    }\n",
       "\n",
       "    .dataframe tbody tr th {\n",
       "        vertical-align: top;\n",
       "    }\n",
       "\n",
       "    .dataframe thead th {\n",
       "        text-align: right;\n",
       "    }\n",
       "</style>\n",
       "<table border=\"1\" class=\"dataframe\">\n",
       "  <thead>\n",
       "    <tr style=\"text-align: right;\">\n",
       "      <th></th>\n",
       "      <th>text</th>\n",
       "      <th>category</th>\n",
       "      <th>title</th>\n",
       "      <th>sub_title</th>\n",
       "    </tr>\n",
       "  </thead>\n",
       "  <tbody>\n",
       "    <tr>\n",
       "      <th>0</th>\n",
       "      <td></td>\n",
       "      <td>[Algebraic topology]</td>\n",
       "      <td>Template:Infobox knot theory</td>\n",
       "      <td>None</td>\n",
       "    </tr>\n",
       "    <tr>\n",
       "      <th>1</th>\n",
       "      <td></td>\n",
       "      <td>[Numerical analysis]</td>\n",
       "      <td>Verlet integration</td>\n",
       "      <td>Literature</td>\n",
       "    </tr>\n",
       "    <tr>\n",
       "      <th>2</th>\n",
       "      <td>\\nIncorrect code, p[i] is overwritten used in...</td>\n",
       "      <td>[Applied mathematics]</td>\n",
       "      <td>Binomial options pricing model</td>\n",
       "      <td>Method</td>\n",
       "    </tr>\n",
       "    <tr>\n",
       "      <th>3</th>\n",
       "      <td>0 1 2 3 4 5 6 7 8 9 sum 1 0 1   1 2 1...</td>\n",
       "      <td>[Dynamical systems, Combinatorics, Topology, G...</td>\n",
       "      <td>Cycles and fixed points</td>\n",
       "      <td>Some values</td>\n",
       "    </tr>\n",
       "    <tr>\n",
       "      <th>4</th>\n",
       "      <td>Primorial prime?- 0 1  1     1 1 2 2   2 ...</td>\n",
       "      <td>[Combinatorics, Number theory]</td>\n",
       "      <td>Primorial</td>\n",
       "      <td>Table of primorials</td>\n",
       "    </tr>\n",
       "    <tr>\n",
       "      <th>...</th>\n",
       "      <td>...</td>\n",
       "      <td>...</td>\n",
       "      <td>...</td>\n",
       "      <td>...</td>\n",
       "    </tr>\n",
       "    <tr>\n",
       "      <th>100485</th>\n",
       "      <td>“The farthest planet from the sun”, as it appe...</td>\n",
       "      <td>[Mathematical logic]</td>\n",
       "      <td>Frege–Church ontology</td>\n",
       "      <td>Resolution</td>\n",
       "    </tr>\n",
       "    <tr>\n",
       "      <th>100486</th>\n",
       "      <td>•Length.The length is the number of evaluation...</td>\n",
       "      <td>[Applied mathematics]</td>\n",
       "      <td>Locally recoverable code</td>\n",
       "      <td>Parameters of Tamo–Barg codes</td>\n",
       "    </tr>\n",
       "    <tr>\n",
       "      <th>100487</th>\n",
       "      <td>″On the Nature of Mathematical Truth\"and \"Geom...</td>\n",
       "      <td>[Mathematical logic]</td>\n",
       "      <td>Carl Gustav Hempel</td>\n",
       "      <td>Articles</td>\n",
       "    </tr>\n",
       "    <tr>\n",
       "      <th>100488</th>\n",
       "      <td>将棋ぶらうざQ (Shogi Browser Q) is a free cross-plat...</td>\n",
       "      <td>[Game theory]</td>\n",
       "      <td>Computer shogi</td>\n",
       "      <td>Shogi Browser Q</td>\n",
       "    </tr>\n",
       "    <tr>\n",
       "      <th>100489</th>\n",
       "      <td>꜔(U+A714) Modifier Letter Mid Left-Stem Tone B...</td>\n",
       "      <td>[Mathematical logic]</td>\n",
       "      <td>Turnstile (symbol)</td>\n",
       "      <td>Similar graphemes</td>\n",
       "    </tr>\n",
       "  </tbody>\n",
       "</table>\n",
       "<p>100490 rows × 4 columns</p>\n",
       "</div>"
      ],
      "text/plain": [
       "                                                     text  \\\n",
       "0                                                           \n",
       "1                                                           \n",
       "2        \\nIncorrect code, p[i] is overwritten used in...   \n",
       "3                0 1 2 3 4 5 6 7 8 9 sum 1 0 1   1 2 1...   \n",
       "4            Primorial prime?- 0 1  1     1 1 2 2   2 ...   \n",
       "...                                                   ...   \n",
       "100485  “The farthest planet from the sun”, as it appe...   \n",
       "100486  •Length.The length is the number of evaluation...   \n",
       "100487  ″On the Nature of Mathematical Truth\"and \"Geom...   \n",
       "100488  将棋ぶらうざQ (Shogi Browser Q) is a free cross-plat...   \n",
       "100489  ꜔(U+A714) Modifier Letter Mid Left-Stem Tone B...   \n",
       "\n",
       "                                                 category  \\\n",
       "0                                    [Algebraic topology]   \n",
       "1                                    [Numerical analysis]   \n",
       "2                                   [Applied mathematics]   \n",
       "3       [Dynamical systems, Combinatorics, Topology, G...   \n",
       "4                          [Combinatorics, Number theory]   \n",
       "...                                                   ...   \n",
       "100485                               [Mathematical logic]   \n",
       "100486                              [Applied mathematics]   \n",
       "100487                               [Mathematical logic]   \n",
       "100488                                      [Game theory]   \n",
       "100489                               [Mathematical logic]   \n",
       "\n",
       "                                 title                      sub_title  \n",
       "0         Template:Infobox knot theory                           None  \n",
       "1                   Verlet integration                     Literature  \n",
       "2       Binomial options pricing model                         Method  \n",
       "3              Cycles and fixed points                    Some values  \n",
       "4                            Primorial            Table of primorials  \n",
       "...                                ...                            ...  \n",
       "100485           Frege–Church ontology                     Resolution  \n",
       "100486        Locally recoverable code  Parameters of Tamo–Barg codes  \n",
       "100487              Carl Gustav Hempel                       Articles  \n",
       "100488                  Computer shogi                Shogi Browser Q  \n",
       "100489              Turnstile (symbol)              Similar graphemes  \n",
       "\n",
       "[100490 rows x 4 columns]"
      ]
     },
     "execution_count": 8,
     "metadata": {},
     "output_type": "execute_result"
    }
   ],
   "source": [
    "data = data.groupby(\"text\").agg({\n",
    "    \"category\": lambda x: list(set(x)),  # collect unique categories\n",
    "    \"title\": \"first\",\n",
    "    \"sub_title\": \"first\"}).reset_index()\n",
    "\n",
    "data"
   ]
  },
  {
   "cell_type": "code",
   "execution_count": 9,
   "id": "19cb19cf",
   "metadata": {},
   "outputs": [
    {
     "data": {
      "text/html": [
       "<div>\n",
       "<style scoped>\n",
       "    .dataframe tbody tr th:only-of-type {\n",
       "        vertical-align: middle;\n",
       "    }\n",
       "\n",
       "    .dataframe tbody tr th {\n",
       "        vertical-align: top;\n",
       "    }\n",
       "\n",
       "    .dataframe thead th {\n",
       "        text-align: right;\n",
       "    }\n",
       "</style>\n",
       "<table border=\"1\" class=\"dataframe\">\n",
       "  <thead>\n",
       "    <tr style=\"text-align: right;\">\n",
       "      <th></th>\n",
       "      <th>text</th>\n",
       "      <th>category</th>\n",
       "      <th>title</th>\n",
       "      <th>sub_title</th>\n",
       "      <th>length</th>\n",
       "    </tr>\n",
       "  </thead>\n",
       "  <tbody>\n",
       "    <tr>\n",
       "      <th>count</th>\n",
       "      <td>100490</td>\n",
       "      <td>100490</td>\n",
       "      <td>100490</td>\n",
       "      <td>89409</td>\n",
       "      <td>100490.000000</td>\n",
       "    </tr>\n",
       "    <tr>\n",
       "      <th>unique</th>\n",
       "      <td>100490</td>\n",
       "      <td>822</td>\n",
       "      <td>20614</td>\n",
       "      <td>54613</td>\n",
       "      <td>NaN</td>\n",
       "    </tr>\n",
       "    <tr>\n",
       "      <th>top</th>\n",
       "      <td>꜔(U+A714) Modifier Letter Mid Left-Stem Tone B...</td>\n",
       "      <td>[Applied mathematics]</td>\n",
       "      <td>List of fellows of the American Statistical As...</td>\n",
       "      <td>Introduction</td>\n",
       "      <td>NaN</td>\n",
       "    </tr>\n",
       "    <tr>\n",
       "      <th>freq</th>\n",
       "      <td>1</td>\n",
       "      <td>10817</td>\n",
       "      <td>108</td>\n",
       "      <td>9516</td>\n",
       "      <td>NaN</td>\n",
       "    </tr>\n",
       "    <tr>\n",
       "      <th>mean</th>\n",
       "      <td>NaN</td>\n",
       "      <td>NaN</td>\n",
       "      <td>NaN</td>\n",
       "      <td>NaN</td>\n",
       "      <td>179.383282</td>\n",
       "    </tr>\n",
       "    <tr>\n",
       "      <th>std</th>\n",
       "      <td>NaN</td>\n",
       "      <td>NaN</td>\n",
       "      <td>NaN</td>\n",
       "      <td>NaN</td>\n",
       "      <td>199.509129</td>\n",
       "    </tr>\n",
       "    <tr>\n",
       "      <th>min</th>\n",
       "      <td>NaN</td>\n",
       "      <td>NaN</td>\n",
       "      <td>NaN</td>\n",
       "      <td>NaN</td>\n",
       "      <td>0.000000</td>\n",
       "    </tr>\n",
       "    <tr>\n",
       "      <th>25%</th>\n",
       "      <td>NaN</td>\n",
       "      <td>NaN</td>\n",
       "      <td>NaN</td>\n",
       "      <td>NaN</td>\n",
       "      <td>69.000000</td>\n",
       "    </tr>\n",
       "    <tr>\n",
       "      <th>50%</th>\n",
       "      <td>NaN</td>\n",
       "      <td>NaN</td>\n",
       "      <td>NaN</td>\n",
       "      <td>NaN</td>\n",
       "      <td>132.000000</td>\n",
       "    </tr>\n",
       "    <tr>\n",
       "      <th>75%</th>\n",
       "      <td>NaN</td>\n",
       "      <td>NaN</td>\n",
       "      <td>NaN</td>\n",
       "      <td>NaN</td>\n",
       "      <td>235.000000</td>\n",
       "    </tr>\n",
       "    <tr>\n",
       "      <th>max</th>\n",
       "      <td>NaN</td>\n",
       "      <td>NaN</td>\n",
       "      <td>NaN</td>\n",
       "      <td>NaN</td>\n",
       "      <td>11605.000000</td>\n",
       "    </tr>\n",
       "  </tbody>\n",
       "</table>\n",
       "</div>"
      ],
      "text/plain": [
       "                                                     text  \\\n",
       "count                                              100490   \n",
       "unique                                             100490   \n",
       "top     ꜔(U+A714) Modifier Letter Mid Left-Stem Tone B...   \n",
       "freq                                                    1   \n",
       "mean                                                  NaN   \n",
       "std                                                   NaN   \n",
       "min                                                   NaN   \n",
       "25%                                                   NaN   \n",
       "50%                                                   NaN   \n",
       "75%                                                   NaN   \n",
       "max                                                   NaN   \n",
       "\n",
       "                     category  \\\n",
       "count                  100490   \n",
       "unique                    822   \n",
       "top     [Applied mathematics]   \n",
       "freq                    10817   \n",
       "mean                      NaN   \n",
       "std                       NaN   \n",
       "min                       NaN   \n",
       "25%                       NaN   \n",
       "50%                       NaN   \n",
       "75%                       NaN   \n",
       "max                       NaN   \n",
       "\n",
       "                                                    title     sub_title  \\\n",
       "count                                              100490         89409   \n",
       "unique                                              20614         54613   \n",
       "top     List of fellows of the American Statistical As...  Introduction   \n",
       "freq                                                  108          9516   \n",
       "mean                                                  NaN           NaN   \n",
       "std                                                   NaN           NaN   \n",
       "min                                                   NaN           NaN   \n",
       "25%                                                   NaN           NaN   \n",
       "50%                                                   NaN           NaN   \n",
       "75%                                                   NaN           NaN   \n",
       "max                                                   NaN           NaN   \n",
       "\n",
       "               length  \n",
       "count   100490.000000  \n",
       "unique            NaN  \n",
       "top               NaN  \n",
       "freq              NaN  \n",
       "mean       179.383282  \n",
       "std        199.509129  \n",
       "min          0.000000  \n",
       "25%         69.000000  \n",
       "50%        132.000000  \n",
       "75%        235.000000  \n",
       "max      11605.000000  "
      ]
     },
     "execution_count": 9,
     "metadata": {},
     "output_type": "execute_result"
    }
   ],
   "source": [
    "data['length'] = data['text'].apply(lambda x: len(x.split()))\n",
    "data.describe(include='all')"
   ]
  },
  {
   "cell_type": "code",
   "execution_count": 10,
   "id": "b20169a7",
   "metadata": {},
   "outputs": [
    {
     "data": {
      "text/plain": [
       "0.50    132.0\n",
       "0.90    372.0\n",
       "0.95    469.0\n",
       "0.99    785.0\n",
       "Name: length, dtype: float64"
      ]
     },
     "execution_count": 10,
     "metadata": {},
     "output_type": "execute_result"
    }
   ],
   "source": [
    "percentiles = data['length'].quantile([0.5, 0.9, 0.95, 0.99])\n",
    "percentiles"
   ]
  },
  {
   "cell_type": "code",
   "execution_count": 11,
   "id": "3ddc0150",
   "metadata": {},
   "outputs": [
    {
     "name": "stdout",
     "output_type": "stream",
     "text": [
      "56.92% of df remained\n"
     ]
    },
    {
     "data": {
      "text/html": [
       "<div>\n",
       "<style scoped>\n",
       "    .dataframe tbody tr th:only-of-type {\n",
       "        vertical-align: middle;\n",
       "    }\n",
       "\n",
       "    .dataframe tbody tr th {\n",
       "        vertical-align: top;\n",
       "    }\n",
       "\n",
       "    .dataframe thead th {\n",
       "        text-align: right;\n",
       "    }\n",
       "</style>\n",
       "<table border=\"1\" class=\"dataframe\">\n",
       "  <thead>\n",
       "    <tr style=\"text-align: right;\">\n",
       "      <th></th>\n",
       "      <th>text</th>\n",
       "      <th>category</th>\n",
       "      <th>title</th>\n",
       "      <th>sub_title</th>\n",
       "      <th>length</th>\n",
       "    </tr>\n",
       "  </thead>\n",
       "  <tbody>\n",
       "    <tr>\n",
       "      <th>count</th>\n",
       "      <td>93868</td>\n",
       "      <td>93868</td>\n",
       "      <td>93868</td>\n",
       "      <td>83667</td>\n",
       "      <td>93868.000000</td>\n",
       "    </tr>\n",
       "    <tr>\n",
       "      <th>unique</th>\n",
       "      <td>93868</td>\n",
       "      <td>787</td>\n",
       "      <td>19667</td>\n",
       "      <td>51274</td>\n",
       "      <td>NaN</td>\n",
       "    </tr>\n",
       "    <tr>\n",
       "      <th>top</th>\n",
       "      <td>꜔(U+A714) Modifier Letter Mid Left-Stem Tone B...</td>\n",
       "      <td>[Applied mathematics]</td>\n",
       "      <td>List of fellows of the American Statistical As...</td>\n",
       "      <td>Introduction</td>\n",
       "      <td>NaN</td>\n",
       "    </tr>\n",
       "    <tr>\n",
       "      <th>freq</th>\n",
       "      <td>1</td>\n",
       "      <td>10027</td>\n",
       "      <td>93</td>\n",
       "      <td>9278</td>\n",
       "      <td>NaN</td>\n",
       "    </tr>\n",
       "    <tr>\n",
       "      <th>mean</th>\n",
       "      <td>NaN</td>\n",
       "      <td>NaN</td>\n",
       "      <td>NaN</td>\n",
       "      <td>NaN</td>\n",
       "      <td>154.154781</td>\n",
       "    </tr>\n",
       "    <tr>\n",
       "      <th>std</th>\n",
       "      <td>NaN</td>\n",
       "      <td>NaN</td>\n",
       "      <td>NaN</td>\n",
       "      <td>NaN</td>\n",
       "      <td>107.677579</td>\n",
       "    </tr>\n",
       "    <tr>\n",
       "      <th>min</th>\n",
       "      <td>NaN</td>\n",
       "      <td>NaN</td>\n",
       "      <td>NaN</td>\n",
       "      <td>NaN</td>\n",
       "      <td>10.000000</td>\n",
       "    </tr>\n",
       "    <tr>\n",
       "      <th>25%</th>\n",
       "      <td>NaN</td>\n",
       "      <td>NaN</td>\n",
       "      <td>NaN</td>\n",
       "      <td>NaN</td>\n",
       "      <td>69.000000</td>\n",
       "    </tr>\n",
       "    <tr>\n",
       "      <th>50%</th>\n",
       "      <td>NaN</td>\n",
       "      <td>NaN</td>\n",
       "      <td>NaN</td>\n",
       "      <td>NaN</td>\n",
       "      <td>127.000000</td>\n",
       "    </tr>\n",
       "    <tr>\n",
       "      <th>75%</th>\n",
       "      <td>NaN</td>\n",
       "      <td>NaN</td>\n",
       "      <td>NaN</td>\n",
       "      <td>NaN</td>\n",
       "      <td>217.000000</td>\n",
       "    </tr>\n",
       "    <tr>\n",
       "      <th>max</th>\n",
       "      <td>NaN</td>\n",
       "      <td>NaN</td>\n",
       "      <td>NaN</td>\n",
       "      <td>NaN</td>\n",
       "      <td>469.000000</td>\n",
       "    </tr>\n",
       "  </tbody>\n",
       "</table>\n",
       "</div>"
      ],
      "text/plain": [
       "                                                     text  \\\n",
       "count                                               93868   \n",
       "unique                                              93868   \n",
       "top     ꜔(U+A714) Modifier Letter Mid Left-Stem Tone B...   \n",
       "freq                                                    1   \n",
       "mean                                                  NaN   \n",
       "std                                                   NaN   \n",
       "min                                                   NaN   \n",
       "25%                                                   NaN   \n",
       "50%                                                   NaN   \n",
       "75%                                                   NaN   \n",
       "max                                                   NaN   \n",
       "\n",
       "                     category  \\\n",
       "count                   93868   \n",
       "unique                    787   \n",
       "top     [Applied mathematics]   \n",
       "freq                    10027   \n",
       "mean                      NaN   \n",
       "std                       NaN   \n",
       "min                       NaN   \n",
       "25%                       NaN   \n",
       "50%                       NaN   \n",
       "75%                       NaN   \n",
       "max                       NaN   \n",
       "\n",
       "                                                    title     sub_title  \\\n",
       "count                                               93868         83667   \n",
       "unique                                              19667         51274   \n",
       "top     List of fellows of the American Statistical As...  Introduction   \n",
       "freq                                                   93          9278   \n",
       "mean                                                  NaN           NaN   \n",
       "std                                                   NaN           NaN   \n",
       "min                                                   NaN           NaN   \n",
       "25%                                                   NaN           NaN   \n",
       "50%                                                   NaN           NaN   \n",
       "75%                                                   NaN           NaN   \n",
       "max                                                   NaN           NaN   \n",
       "\n",
       "              length  \n",
       "count   93868.000000  \n",
       "unique           NaN  \n",
       "top              NaN  \n",
       "freq             NaN  \n",
       "mean      154.154781  \n",
       "std       107.677579  \n",
       "min        10.000000  \n",
       "25%        69.000000  \n",
       "50%       127.000000  \n",
       "75%       217.000000  \n",
       "max       469.000000  "
      ]
     },
     "execution_count": 11,
     "metadata": {},
     "output_type": "execute_result"
    }
   ],
   "source": [
    "data = data[data['length'] <= percentiles[0.95]]\n",
    "data = data[data['length'] >= 10]\n",
    "print(f'{len(data)/og_len:.2%} of df remained')\n",
    "data.describe(include='all')"
   ]
  },
  {
   "cell_type": "code",
   "execution_count": 12,
   "id": "7e35eb10",
   "metadata": {},
   "outputs": [
    {
     "data": {
      "text/html": [
       "<div>\n",
       "<style scoped>\n",
       "    .dataframe tbody tr th:only-of-type {\n",
       "        vertical-align: middle;\n",
       "    }\n",
       "\n",
       "    .dataframe tbody tr th {\n",
       "        vertical-align: top;\n",
       "    }\n",
       "\n",
       "    .dataframe thead th {\n",
       "        text-align: right;\n",
       "    }\n",
       "</style>\n",
       "<table border=\"1\" class=\"dataframe\">\n",
       "  <thead>\n",
       "    <tr style=\"text-align: right;\">\n",
       "      <th>category</th>\n",
       "      <th>1</th>\n",
       "      <th>2</th>\n",
       "      <th>3</th>\n",
       "      <th>4</th>\n",
       "      <th>5</th>\n",
       "      <th>6</th>\n",
       "      <th>7</th>\n",
       "    </tr>\n",
       "  </thead>\n",
       "  <tbody>\n",
       "    <tr>\n",
       "      <th>count</th>\n",
       "      <td>64637</td>\n",
       "      <td>21991</td>\n",
       "      <td>5177</td>\n",
       "      <td>1591</td>\n",
       "      <td>343</td>\n",
       "      <td>120</td>\n",
       "      <td>9</td>\n",
       "    </tr>\n",
       "  </tbody>\n",
       "</table>\n",
       "</div>"
      ],
      "text/plain": [
       "category      1      2     3     4    5    6  7\n",
       "count     64637  21991  5177  1591  343  120  9"
      ]
     },
     "execution_count": 12,
     "metadata": {},
     "output_type": "execute_result"
    }
   ],
   "source": [
    "data[\"category\"].apply(lambda x : len(x)).value_counts().to_frame().T"
   ]
  },
  {
   "cell_type": "code",
   "execution_count": 13,
   "id": "eb4bd699",
   "metadata": {},
   "outputs": [
    {
     "data": {
      "image/png": "[encoded data removed]",
      "text/plain": [
       "<Figure size 1000x600 with 1 Axes>"
      ]
     },
     "metadata": {},
     "output_type": "display_data"
    }
   ],
   "source": [
    "import matplotlib.pyplot as plt\n",
    "\n",
    "plt.figure(figsize=(10, 6))\n",
    "plt.hist(data['length'], bins=100, color='blue', edgecolor='black')\n",
    "plt.title('Distribution of Text Lengths')\n",
    "plt.xlabel('Number of words')\n",
    "plt.ylabel('Frequency')\n",
    "plt.grid(axis='y')\n",
    "plt.show()"
   ]
  },
  {
   "cell_type": "code",
   "execution_count": 14,
   "id": "bbc6a3b3",
   "metadata": {},
   "outputs": [
    {
     "data": {
      "text/plain": [
       "array([[1, 0, 0, 0, 0, 0, 1, 0, 0, 0, 0, 0, 0, 0, 0, 0, 0, 0, 0, 0, 0, 0,\n",
       "        0, 0, 0, 0, 0, 0, 0],\n",
       "       [0, 0, 0, 0, 0, 0, 0, 0, 0, 0, 0, 0, 0, 1, 0, 0, 0, 0, 0, 0, 0, 0,\n",
       "        0, 0, 0, 0, 0, 0, 0]])"
      ]
     },
     "execution_count": 14,
     "metadata": {},
     "output_type": "execute_result"
    }
   ],
   "source": [
    "from sklearn.preprocessing import MultiLabelBinarizer\n",
    "\n",
    "mlb = MultiLabelBinarizer()\n",
    "mlb.fit([all_labels])\n",
    "mlb.transform([[\"Algebra\", \"Calculus\"], [\"Game theory\"]])"
   ]
  },
  {
   "cell_type": "code",
   "execution_count": 15,
   "id": "7eb55420",
   "metadata": {},
   "outputs": [],
   "source": [
    "import numpy as np\n",
    "from skmultilearn.model_selection import iterative_train_test_split\n",
    "\n",
    "def balanced_split(df, test_size=0.5):\n",
    "    ind = np.expand_dims(np.arange(len(df)), axis=1)\n",
    "    labels = mlb.transform(df[\"category\"])\n",
    "    ind_train, _, ind_test, _ = iterative_train_test_split(ind, labels, test_size)\n",
    "    return df.iloc[ind_train[:,0]], df.iloc[ind_test[:,0]]"
   ]
  },
  {
   "cell_type": "code",
   "execution_count": 16,
   "id": "e3439cd0",
   "metadata": {},
   "outputs": [],
   "source": [
    "np.random.seed(42)\n",
    "train_df, temp_df = balanced_split(data, test_size=0.4)\n",
    "valid_df, test_df = balanced_split(temp_df, test_size=0.5)"
   ]
  },
  {
   "cell_type": "code",
   "execution_count": 17,
   "id": "8ccecce8",
   "metadata": {},
   "outputs": [
    {
     "name": "stderr",
     "output_type": "stream",
     "text": [
      "/tmp/ipykernel_12356/432034294.py:2: SettingWithCopyWarning: \n",
      "A value is trying to be set on a copy of a slice from a DataFrame\n",
      "\n",
      "See the caveats in the documentation: https://pandas.pydata.org/pandas-docs/stable/user_guide/indexing.html#returning-a-view-versus-a-copy\n",
      "  df.drop(columns=['length'], inplace=True)\n",
      "/tmp/ipykernel_12356/432034294.py:2: SettingWithCopyWarning: \n",
      "A value is trying to be set on a copy of a slice from a DataFrame\n",
      "\n",
      "See the caveats in the documentation: https://pandas.pydata.org/pandas-docs/stable/user_guide/indexing.html#returning-a-view-versus-a-copy\n",
      "  df.drop(columns=['length'], inplace=True)\n",
      "/tmp/ipykernel_12356/432034294.py:2: SettingWithCopyWarning: \n",
      "A value is trying to be set on a copy of a slice from a DataFrame\n",
      "\n",
      "See the caveats in the documentation: https://pandas.pydata.org/pandas-docs/stable/user_guide/indexing.html#returning-a-view-versus-a-copy\n",
      "  df.drop(columns=['length'], inplace=True)\n"
     ]
    }
   ],
   "source": [
    "for df in [train_df, valid_df, test_df]:\n",
    "    df.drop(columns=['length'], inplace=True)"
   ]
  },
  {
   "cell_type": "code",
   "execution_count": 18,
   "id": "83af03b1",
   "metadata": {},
   "outputs": [],
   "source": [
    "from datasets import Dataset, DatasetDict\n",
    "\n",
    "train_ds = Dataset.from_pandas(train_df, preserve_index=False)\n",
    "valid_ds = Dataset.from_pandas(valid_df, preserve_index=False)\n",
    "test_ds = Dataset.from_pandas(test_df, preserve_index=False)\n",
    "\n",
    "ds = DatasetDict({\n",
    "    'train': train_ds,\n",
    "    'valid': valid_ds,\n",
    "    'test': test_ds\n",
    "})"
   ]
  },
  {
   "cell_type": "code",
   "execution_count": 19,
   "id": "038e8c8d",
   "metadata": {},
   "outputs": [
    {
     "data": {
      "text/plain": [
       "DatasetDict({\n",
       "    train: Dataset({\n",
       "        features: ['text', 'category', 'title', 'sub_title'],\n",
       "        num_rows: 56379\n",
       "    })\n",
       "    valid: Dataset({\n",
       "        features: ['text', 'category', 'title', 'sub_title'],\n",
       "        num_rows: 18699\n",
       "    })\n",
       "    test: Dataset({\n",
       "        features: ['text', 'category', 'title', 'sub_title'],\n",
       "        num_rows: 18790\n",
       "    })\n",
       "})"
      ]
     },
     "execution_count": 19,
     "metadata": {},
     "output_type": "execute_result"
    }
   ],
   "source": [
    "ds"
   ]
  },
  {
   "cell_type": "code",
   "execution_count": 20,
   "id": "63d86a06",
   "metadata": {},
   "outputs": [
    {
     "data": {
      "application/vnd.jupyter.widget-view+json": {
       "model_id": "8057d3d0209843cb88d417772b92fb4e",
       "version_major": 2,
       "version_minor": 0
      },
      "text/plain": [
       "VBox(children=(HTML(value='<center> <img\\nsrc=https://huggingface.co/front/assets/huggingface_logo-noborder.sv…"
      ]
     },
     "metadata": {},
     "output_type": "display_data"
    }
   ],
   "source": [
    "from huggingface_hub import login\n",
    "\n",
    "login()"
   ]
  },
  {
   "cell_type": "code",
   "execution_count": 21,
   "id": "0b09e193",
   "metadata": {},
   "outputs": [
    {
     "data": {
      "application/vnd.jupyter.widget-view+json": {
       "model_id": "f8954499b41e4047b32b4bc930f6a42f",
       "version_major": 2,
       "version_minor": 0
      },
      "text/plain": [
       "Uploading the dataset shards:   0%|          | 0/1 [00:00<?, ? shards/s]"
      ]
     },
     "metadata": {},
     "output_type": "display_data"
    },
    {
     "data": {
      "application/vnd.jupyter.widget-view+json": {
       "model_id": "9004d1b1bd1b42ecb67b7168c86e5d4e",
       "version_major": 2,
       "version_minor": 0
      },
      "text/plain": [
       "Creating parquet from Arrow format:   0%|          | 0/57 [00:00<?, ?ba/s]"
      ]
     },
     "metadata": {},
     "output_type": "display_data"
    },
    {
     "data": {
      "application/vnd.jupyter.widget-view+json": {
       "model_id": "de1b88083e3f48ed9293d709348a04ff",
       "version_major": 2,
       "version_minor": 0
      },
      "text/plain": [
       "Processing Files (0 / 0)                : |          |  0.00B /  0.00B            "
      ]
     },
     "metadata": {},
     "output_type": "display_data"
    },
    {
     "data": {
      "application/vnd.jupyter.widget-view+json": {
       "model_id": "fb2aeb84fc604e5abe0ebb6deac97453",
       "version_major": 2,
       "version_minor": 0
      },
      "text/plain": [
       "New Data Upload                         : |          |  0.00B /  0.00B            "
      ]
     },
     "metadata": {},
     "output_type": "display_data"
    },
    {
     "data": {
      "application/vnd.jupyter.widget-view+json": {
       "model_id": "e8955a70050146758fcdcd05a2a6438d",
       "version_major": 2,
       "version_minor": 0
      },
      "text/plain": [
       "                                        :   1%|1         |  525kB / 38.3MB            "
      ]
     },
     "metadata": {},
     "output_type": "display_data"
    },
    {
     "data": {
      "application/vnd.jupyter.widget-view+json": {
       "model_id": "5020d3a54efd45468605becfcfe59251",
       "version_major": 2,
       "version_minor": 0
      },
      "text/plain": [
       "Uploading the dataset shards:   0%|          | 0/1 [00:00<?, ? shards/s]"
      ]
     },
     "metadata": {},
     "output_type": "display_data"
    },
    {
     "data": {
      "application/vnd.jupyter.widget-view+json": {
       "model_id": "dd16ae4d2bc040aca4fa9c007c9af35e",
       "version_major": 2,
       "version_minor": 0
      },
      "text/plain": [
       "Creating parquet from Arrow format:   0%|          | 0/19 [00:00<?, ?ba/s]"
      ]
     },
     "metadata": {},
     "output_type": "display_data"
    },
    {
     "data": {
      "application/vnd.jupyter.widget-view+json": {
       "model_id": "4618dc5f40d941c2b400ea03a45be25c",
       "version_major": 2,
       "version_minor": 0
      },
      "text/plain": [
       "Processing Files (0 / 0)                : |          |  0.00B /  0.00B            "
      ]
     },
     "metadata": {},
     "output_type": "display_data"
    },
    {
     "data": {
      "application/vnd.jupyter.widget-view+json": {
       "model_id": "6ccf8246488f4267a7b6b27111677942",
       "version_major": 2,
       "version_minor": 0
      },
      "text/plain": [
       "New Data Upload                         : |          |  0.00B /  0.00B            "
      ]
     },
     "metadata": {},
     "output_type": "display_data"
    },
    {
     "data": {
      "application/vnd.jupyter.widget-view+json": {
       "model_id": "36accb57afb34b688d911c4cf95fadf2",
       "version_major": 2,
       "version_minor": 0
      },
      "text/plain": [
       "                                        :   4%|4         |  525kB / 12.9MB            "
      ]
     },
     "metadata": {},
     "output_type": "display_data"
    },
    {
     "data": {
      "application/vnd.jupyter.widget-view+json": {
       "model_id": "91edc8757d8147229e0cc6fa536b33d4",
       "version_major": 2,
       "version_minor": 0
      },
      "text/plain": [
       "Uploading the dataset shards:   0%|          | 0/1 [00:00<?, ? shards/s]"
      ]
     },
     "metadata": {},
     "output_type": "display_data"
    },
    {
     "data": {
      "application/vnd.jupyter.widget-view+json": {
       "model_id": "6f0bd9966d8a4de5af37ffc4ef03b892",
       "version_major": 2,
       "version_minor": 0
      },
      "text/plain": [
       "Creating parquet from Arrow format:   0%|          | 0/19 [00:00<?, ?ba/s]"
      ]
     },
     "metadata": {},
     "output_type": "display_data"
    },
    {
     "data": {
      "application/vnd.jupyter.widget-view+json": {
       "model_id": "5498fbbc747e4ed9b4218876547f05ae",
       "version_major": 2,
       "version_minor": 0
      },
      "text/plain": [
       "Processing Files (0 / 0)                : |          |  0.00B /  0.00B            "
      ]
     },
     "metadata": {},
     "output_type": "display_data"
    },
    {
     "data": {
      "application/vnd.jupyter.widget-view+json": {
       "model_id": "4ae73e61e45a4c0ca0fad608867e2126",
       "version_major": 2,
       "version_minor": 0
      },
      "text/plain": [
       "New Data Upload                         : |          |  0.00B /  0.00B            "
      ]
     },
     "metadata": {},
     "output_type": "display_data"
    },
    {
     "data": {
      "application/vnd.jupyter.widget-view+json": {
       "model_id": "d877ed8b63b64f209d998175539b4ddf",
       "version_major": 2,
       "version_minor": 0
      },
      "text/plain": [
       "                                        :   4%|4         |  525kB / 12.9MB            "
      ]
     },
     "metadata": {},
     "output_type": "display_data"
    },
    {
     "data": {
      "text/plain": [
       "CommitInfo(commit_url='https://huggingface.co/datasets/noor-zalouk/wiki-math-articles-multilabel/commit/1e8d4e731658b6bd33d74b5b0a645fab808c06b9', commit_message='Upload dataset', commit_description='', oid='1e8d4e731658b6bd33d74b5b0a645fab808c06b9', pr_url=None, repo_url=RepoUrl('https://huggingface.co/datasets/noor-zalouk/wiki-math-articles-multilabel', endpoint='https://huggingface.co', repo_type='dataset', repo_id='noor-zalouk/wiki-math-articles-multilabel'), pr_revision=None, pr_num=None)"
      ]
     },
     "execution_count": 21,
     "metadata": {},
     "output_type": "execute_result"
    }
   ],
   "source": [
    "repo_id = \"noor-zalouk/wiki-math-articles-multilabel\"\n",
    "ds.push_to_hub(repo_id)"
   ]
  },
  {
   "cell_type": "code",
   "execution_count": null,
   "id": "3d9cdba4",
   "metadata": {},
   "outputs": [],
   "source": []
  }
 ],
 "metadata": {
  "kernelspec": {
   "display_name": "base",
   "language": "python",
   "name": "python3"
  },
  "language_info": {
   "codemirror_mode": {
    "name": "ipython",
    "version": 3
   },
   "file_extension": ".py",
   "mimetype": "text/x-python",
   "name": "python",
   "nbconvert_exporter": "python",
   "pygments_lexer": "ipython3",
   "version": "3.13.5"
  }
 },
 "nbformat": 4,
 "nbformat_minor": 5
}
