{
 "cells": [
  {
   "cell_type": "code",
   "execution_count": 1,
   "id": "3a07cd33",
   "metadata": {},
   "outputs": [
    {
     "data": {
      "text/plain": [
       "DatasetDict({\n",
       "    train: Dataset({\n",
       "        features: ['text', 'category', 'title', 'sub_title'],\n",
       "        num_rows: 56379\n",
       "    })\n",
       "    valid: Dataset({\n",
       "        features: ['text', 'category', 'title', 'sub_title'],\n",
       "        num_rows: 18699\n",
       "    })\n",
       "    test: Dataset({\n",
       "        features: ['text', 'category', 'title', 'sub_title'],\n",
       "        num_rows: 18790\n",
       "    })\n",
       "})"
      ]
     },
     "execution_count": 1,
     "metadata": {},
     "output_type": "execute_result"
    }
   ],
   "source": [
    "from datasets import load_dataset\n",
    "\n",
    "ds = load_dataset(\"noor-zalouk/wiki-math-articles-multilabel\")\n",
    "ds"
   ]
  },
  {
   "cell_type": "code",
   "execution_count": 2,
   "id": "b894e2b9",
   "metadata": {},
   "outputs": [],
   "source": [
    "import pandas as pd\n",
    "\n",
    "df = ds['test'].to_pandas()\n",
    "all_labels = list(df['category'].explode().unique())"
   ]
  },
  {
   "cell_type": "code",
   "execution_count": 3,
   "id": "9168eb92",
   "metadata": {},
   "outputs": [],
   "source": [
    "from sklearn.preprocessing import MultiLabelBinarizer\n",
    "\n",
    "mlb = MultiLabelBinarizer()\n",
    "mlb.fit([all_labels])\n",
    "\n",
    "def prepare_labels(batch):\n",
    "    batch[\"category_ids\"] = mlb.transform(batch[\"category\"])\n",
    "    return batch\n",
    "\n",
    "ds = ds.map(prepare_labels, batched=True)"
   ]
  },
  {
   "cell_type": "code",
   "execution_count": 4,
   "id": "ede871d8",
   "metadata": {},
   "outputs": [],
   "source": [
    "import numpy as np\n",
    "from sklearn.naive_bayes import MultinomialNB\n",
    "from sklearn.metrics import classification_report\n",
    "from skmultilearn.problem_transform import BinaryRelevance\n",
    "from sklearn.feature_extraction.text import CountVectorizer\n",
    "\n",
    "y_train = np.array(ds[\"train\"][\"category_ids\"])\n",
    "y_test = np.array(ds[\"test\"][\"category_ids\"])\n",
    "# Use a simple count vectorizer to encode our texts as token counts\n",
    "count_vect = CountVectorizer(max_features=25000)\n",
    "X_train_counts = count_vect.fit_transform(ds[\"train\"][\"text\"])\n",
    "X_test_counts = count_vect.transform(ds[\"test\"][\"text\"])\n",
    "# Create and train our model!\n",
    "classifier = BinaryRelevance(classifier=MultinomialNB())\n",
    "classifier.fit(X_train_counts, y_train)\n",
    "# Generate predictions and evaluate\n",
    "y_pred_test = classifier.predict(X_test_counts)\n",
    "clf_report = classification_report(y_test, y_pred_test, target_names=mlb.classes_, zero_division=0, output_dict=True)"
   ]
  },
  {
   "cell_type": "code",
   "execution_count": 5,
   "id": "772f8b13",
   "metadata": {},
   "outputs": [
    {
     "data": {
      "text/plain": [
       "(0.40407743639350235, 0.43033456042674456)"
      ]
     },
     "execution_count": 5,
     "metadata": {},
     "output_type": "execute_result"
    }
   ],
   "source": [
    "clf_report[\"macro avg\"][\"f1-score\"], clf_report[\"micro avg\"][\"f1-score\"]"
   ]
  }
 ],
 "metadata": {
  "kernelspec": {
   "display_name": "base",
   "language": "python",
   "name": "python3"
  },
  "language_info": {
   "codemirror_mode": {
    "name": "ipython",
    "version": 3
   },
   "file_extension": ".py",
   "mimetype": "text/x-python",
   "name": "python",
   "nbconvert_exporter": "python",
   "pygments_lexer": "ipython3",
   "version": "3.13.5"
  }
 },
 "nbformat": 4,
 "nbformat_minor": 5
}
