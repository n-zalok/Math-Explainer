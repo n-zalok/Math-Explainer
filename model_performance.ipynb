{
 "cells": [
  {
   "cell_type": "code",
   "execution_count": 1,
   "id": "ede871d8",
   "metadata": {},
   "outputs": [],
   "source": [
    "from datasets import load_dataset\n",
    "from transformers import T5ForConditionalGeneration, T5TokenizerFast\n",
    "import evaluate"
   ]
  },
  {
   "cell_type": "code",
   "execution_count": 2,
   "id": "3a07cd33",
   "metadata": {},
   "outputs": [
    {
     "data": {
      "text/plain": [
       "DatasetDict({\n",
       "    train: Dataset({\n",
       "        features: ['title', 'sub_title', 'text', 'category'],\n",
       "        num_rows: 61954\n",
       "    })\n",
       "    valid: Dataset({\n",
       "        features: ['title', 'sub_title', 'text', 'category'],\n",
       "        num_rows: 6884\n",
       "    })\n",
       "    rag: Dataset({\n",
       "        features: ['title', 'sub_title', 'text', 'category'],\n",
       "        num_rows: 143309\n",
       "    })\n",
       "})"
      ]
     },
     "execution_count": 2,
     "metadata": {},
     "output_type": "execute_result"
    }
   ],
   "source": [
    "ds = load_dataset(\"noor-zalouk/wiki-math-articles\")\n",
    "ds"
   ]
  },
  {
   "cell_type": "code",
   "execution_count": 3,
   "id": "8bf82653",
   "metadata": {},
   "outputs": [],
   "source": [
    "def query(row):\n",
    "    title = row[\"title\"]\n",
    "    sub_title = row[\"sub_title\"]\n",
    "    if not title:\n",
    "        title = \"\"\n",
    "    elif not sub_title:\n",
    "        sub_title = \"\"\n",
    "    else:\n",
    "        pass\n",
    "\n",
    "    row[\"query\"] = f\"EXPLAIN {sub_title} {title}\"\n",
    "\n",
    "    return row\n",
    "\n",
    "def context(row):\n",
    "    row['query'] = row['query'] + ' ' + row['text']\n",
    "    return row"
   ]
  },
  {
   "cell_type": "code",
   "execution_count": 4,
   "id": "3e03721f",
   "metadata": {},
   "outputs": [
    {
     "data": {
      "text/plain": [
       "DatasetDict({\n",
       "    train: Dataset({\n",
       "        features: ['title', 'sub_title', 'text', 'category', 'query'],\n",
       "        num_rows: 61954\n",
       "    })\n",
       "    valid: Dataset({\n",
       "        features: ['title', 'sub_title', 'text', 'category', 'query'],\n",
       "        num_rows: 6884\n",
       "    })\n",
       "    rag: Dataset({\n",
       "        features: ['title', 'sub_title', 'text', 'category', 'query'],\n",
       "        num_rows: 143309\n",
       "    })\n",
       "})"
      ]
     },
     "execution_count": 4,
     "metadata": {},
     "output_type": "execute_result"
    }
   ],
   "source": [
    "ds = ds.map(query)\n",
    "ds['rag'] = ds['rag'].map(context)\n",
    "ds"
   ]
  },
  {
   "cell_type": "code",
   "execution_count": 5,
   "id": "6842d07d",
   "metadata": {},
   "outputs": [],
   "source": [
    "def generate(row):\n",
    "    input_ids = tokenizer(row['query'], return_tensors=\"pt\", padding=\"max_length\", truncation=True).input_ids\n",
    "    generated_ids = model.generate(\n",
    "        input_ids,\n",
    "        num_beams=4,\n",
    "        repetition_penalty=2.0,\n",
    "        no_repeat_ngram_size=3,         \n",
    "        max_length=250,       \n",
    "        early_stopping=True  \n",
    "    )\n",
    "    row['generation'] = tokenizer.decode(generated_ids[0], skip_special_tokens=True)\n",
    "    \n",
    "    return row"
   ]
  },
  {
   "cell_type": "code",
   "execution_count": 6,
   "id": "49169a33",
   "metadata": {},
   "outputs": [],
   "source": [
    "rouge = evaluate.load('rouge')\n",
    "cps = {}"
   ]
  },
  {
   "cell_type": "code",
   "execution_count": 7,
   "id": "bf3e0165",
   "metadata": {},
   "outputs": [
    {
     "data": {
      "application/vnd.jupyter.widget-view+json": {
       "model_id": "b9b57edf8e4a429b974fea24f6788db9",
       "version_major": 2,
       "version_minor": 0
      },
      "text/plain": [
       "Map:   0%|          | 0/2000 [00:00<?, ? examples/s]"
      ]
     },
     "metadata": {},
     "output_type": "display_data"
    },
    {
     "data": {
      "application/vnd.jupyter.widget-view+json": {
       "model_id": "ccc12a9ab0394d04aa2be731631d307d",
       "version_major": 2,
       "version_minor": 0
      },
      "text/plain": [
       "Map:   0%|          | 0/2000 [00:00<?, ? examples/s]"
      ]
     },
     "metadata": {},
     "output_type": "display_data"
    },
    {
     "data": {
      "application/vnd.jupyter.widget-view+json": {
       "model_id": "8006c3c4bfcf4cae82ce96ed8544f492",
       "version_major": 2,
       "version_minor": 0
      },
      "text/plain": [
       "Map:   0%|          | 0/2000 [00:00<?, ? examples/s]"
      ]
     },
     "metadata": {},
     "output_type": "display_data"
    },
    {
     "data": {
      "application/vnd.jupyter.widget-view+json": {
       "model_id": "00e3dfb5f01546d191f2828ccd715f41",
       "version_major": 2,
       "version_minor": 0
      },
      "text/plain": [
       "Map:   0%|          | 0/2000 [00:00<?, ? examples/s]"
      ]
     },
     "metadata": {},
     "output_type": "display_data"
    },
    {
     "data": {
      "application/vnd.jupyter.widget-view+json": {
       "model_id": "73a39bc396fa49afbcb5ce1060ebb214",
       "version_major": 2,
       "version_minor": 0
      },
      "text/plain": [
       "Map:   0%|          | 0/2000 [00:00<?, ? examples/s]"
      ]
     },
     "metadata": {},
     "output_type": "display_data"
    },
    {
     "data": {
      "application/vnd.jupyter.widget-view+json": {
       "model_id": "0292be31e1a04ba9b56b5ae7d790e717",
       "version_major": 2,
       "version_minor": 0
      },
      "text/plain": [
       "Map:   0%|          | 0/2000 [00:00<?, ? examples/s]"
      ]
     },
     "metadata": {},
     "output_type": "display_data"
    }
   ],
   "source": [
    "for cp in [2907, 3876]:\n",
    "    model_path = f\"./t5_explain_runs/exp4/checkpoint-{cp}\"\n",
    "    tokenizer = T5TokenizerFast.from_pretrained(model_path)\n",
    "    model = T5ForConditionalGeneration.from_pretrained(model_path)\n",
    "\n",
    "    ds_shuffle = ds.shuffle(seed=42)\n",
    "    sample_size = 2000\n",
    "\n",
    "    scores = {}\n",
    "    for split in ['train', 'valid', 'rag']:\n",
    "        ds_sample = ds_shuffle[split].select(range(sample_size))\n",
    "        ds_sample = ds_sample.map(generate)\n",
    "\n",
    "        result = rouge.compute(\n",
    "            predictions=ds_sample['generation'],\n",
    "            references=ds_sample['text'],\n",
    "            use_stemmer=True\n",
    "        )\n",
    "\n",
    "        scores[split] = {rn: result[rn].item() for rn in [\"rouge1\", \"rouge2\", \"rougeL\", \"rougeLsum\"]}\n",
    "    \n",
    "    cps[cp] = scores\n",
    "    "
   ]
  },
  {
   "cell_type": "code",
   "execution_count": 8,
   "id": "f485b445",
   "metadata": {},
   "outputs": [
    {
     "data": {
      "text/plain": [
       "{2907: {'train': {'rouge1': 0.14091725018622864,\n",
       "   'rouge2': 0.03986693116928433,\n",
       "   'rougeL': 0.11316536970084391,\n",
       "   'rougeLsum': 0.11647618593571739},\n",
       "  'valid': {'rouge1': 0.14161441870935584,\n",
       "   'rouge2': 0.040939198120793246,\n",
       "   'rougeL': 0.11341310919600264,\n",
       "   'rougeLsum': 0.11674422290029361},\n",
       "  'rag': {'rouge1': 0.5135945011638156,\n",
       "   'rouge2': 0.4648456297342026,\n",
       "   'rougeL': 0.4495653746956766,\n",
       "   'rougeLsum': 0.46546503414429885}},\n",
       " 3876: {'train': {'rouge1': 0.14396557070718213,\n",
       "   'rouge2': 0.04016723243424131,\n",
       "   'rougeL': 0.11534701228296274,\n",
       "   'rougeLsum': 0.1186913046350499},\n",
       "  'valid': {'rouge1': 0.1443174891695106,\n",
       "   'rouge2': 0.04128512011147161,\n",
       "   'rougeL': 0.11493799608819302,\n",
       "   'rougeLsum': 0.1187569628365387},\n",
       "  'rag': {'rouge1': 0.5165961514511581,\n",
       "   'rouge2': 0.4669226389590829,\n",
       "   'rougeL': 0.4501568353616199,\n",
       "   'rougeLsum': 0.46667859615805585}}}"
      ]
     },
     "execution_count": 8,
     "metadata": {},
     "output_type": "execute_result"
    }
   ],
   "source": [
    "cps"
   ]
  },
  {
   "cell_type": "code",
   "execution_count": 11,
   "id": "24f06b93",
   "metadata": {},
   "outputs": [],
   "source": [
    "import pickle \n",
    "with open('cps.pkl', 'wb') as file:\n",
    "    pickle.dump(cps, file)"
   ]
  },
  {
   "cell_type": "code",
   "execution_count": null,
   "id": "f87b00ec",
   "metadata": {},
   "outputs": [],
   "source": []
  }
 ],
 "metadata": {
  "kernelspec": {
   "display_name": "base",
   "language": "python",
   "name": "python3"
  },
  "language_info": {
   "codemirror_mode": {
    "name": "ipython",
    "version": 3
   },
   "file_extension": ".py",
   "mimetype": "text/x-python",
   "name": "python",
   "nbconvert_exporter": "python",
   "pygments_lexer": "ipython3",
   "version": "3.13.5"
  }
 },
 "nbformat": 4,
 "nbformat_minor": 5
}
